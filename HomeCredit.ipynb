{
 "cells": [
  {
   "cell_type": "markdown",
   "metadata": {},
   "source": [
    "# Home Credit Project - Data analysis, LGB training and hyperparameter optimization\n"
   ]
  },
  {
   "cell_type": "markdown",
   "metadata": {},
   "source": [
    "Credit is the life-blood of modern society. Without it, businesses cannot operate, individuals would find it impossible to build wealth through real estate or business ventures requiring financing, and domestic and international trade would come to a grinding halt.\n",
    "As a particular form of widely consumed credit, home loans play a pivotal role in the American dream. Using a bank’s or lending institution’s leverage, individuals from many social strata can enter leveraged bets on properties with a value sometimes exceeding many years’ salary. If the bet pays off, the individual can keep the upside less financing cost, if the bet goes poorly, the lender naturally must absorb the loss. \n",
    "With an intrinsically long-time horizon (15-30 years), lending decisions have to blend current market and income potential with anticipated future developments, and these decisions are often based on historical credit and behavioral data.  \n",
    "The home loan industry has used machine learning and artificial intelligence as well as traditional analytics and statistics for many years to determine the credit-worthiness of individuals and organizations. \n",
    "\n",
    "As the loan recipient population naturally shows wide-spread differences in credit history, age, income, etc., a fair (and profitable!) system should look to a more inclusive data set than just a credit report to determine which applicants represent the “best bet” for the issuance of a loan. \n",
    "In addition, and of personal interest to me is the question of bias embedded in the data. Specifically, what are some of the relevant “columns” in previous loan decisions (such as race, age, gender, ZIP code, etc.) that may reflect human biases in issuing loans and that may thus have contributed to a biased training set? See https://www.whitecase.com/publications/insight/algorithms-and-bias-what-lenders-need-know and https://www.americanbanker.com/news/can-ai-be-programmed-to-make-fair-lending-decisions for interesting discussions on underwriting bias as well as https://www.ibm.com/blogs/research/2017/12/ai-reducing-discrimination/ on attempts to reduce or eliminate bias.\n",
    "\n",
    "Overall, the core challenge boils down to accurately predicting default risk (and thus, inversely, credit worthiness). Should the bank issue the loan? What are the key risk factors? Can large feature sets be reduced to a smaller set of core components to improve performance without sacrificing accuracy? \n",
    "This, at its core, is a (binary) classification problem and I will use available features in the training and test data sets as well as select features of the adjacent data files (see section below) to train the binary classifier. \n",
    "\n",
    "**Acknowledgements:**\n",
    "I want to gratefully acknowledge the work of fellow Kaggle competitors and Kernel authors, specifically the outstanding overview and intro kernels by Will Koehresen here https://www.kaggle.com/willkoehrsen/start-here-a-gentle-introductionand here https://www.kaggle.com/willkoehrsen/intro-to-model-tuning-grid-and-random-search as well as the polynomial feature engineering laid out by Ann Antonova here https://www.kaggle.com/aantonova/797-lgbm-and-bayesian-optimization\n",
    "\n",
    "**Methodology**\n",
    "1. Data import\n",
    "2. Data analysis\n",
    "    * target variable distribution \n",
    "    * missing value analysis\n",
    "    * variable type analysis\n",
    "    * one-hot encoding for categoricals\n",
    "    * outlier detection and management\n",
    "    * age / employment history - first glance\n",
    "    * family size\n",
    "    * correlation analysis\n",
    "    * age deep dive\n",
    "3. Machine learning model design\n",
    "    * Baseline\n",
    "    * Kfold Cross validation\n",
    "    * Domain expertise feature engineering\n",
    "    * Polynomial feature engineering\n",
    "    * Hyperparameter tuning\n",
    "        * Random Search\n",
    "        * GridSearch\n",
    "        * Focused Random Search with additional visual hyperparameter exploration\n",
    "        \n",
    "**Room for future improvement - ('given unlimited time and compute resources')**\n",
    "1. Bayesian hyperparameter optimization\n",
    "2. Inclusion of additional features from other data files\n",
    "3. PCA/feature reduction"
   ]
  },
  {
   "cell_type": "markdown",
   "metadata": {},
   "source": [
    "# Imports"
   ]
  },
  {
   "cell_type": "code",
   "execution_count": 88,
   "metadata": {},
   "outputs": [],
   "source": [
    "# numpy and pandas for data manipulation\n",
    "import numpy as np\n",
    "import pandas as pd \n",
    "\n",
    "# sklearn preprocessing for dealing with categorical variables\n",
    "from sklearn.preprocessing import LabelEncoder\n",
    "\n",
    "# File system manangement\n",
    "import os\n",
    "\n",
    "# Suppress warnings \n",
    "import warnings\n",
    "warnings.filterwarnings('ignore')\n",
    "\n",
    "# matplotlib and seaborn for plotting\n",
    "import matplotlib.pyplot as plt\n",
    "import seaborn as sns"
   ]
  },
  {
   "cell_type": "code",
   "execution_count": 89,
   "metadata": {},
   "outputs": [
    {
     "name": "stdout",
     "output_type": "stream",
     "text": [
      "Training data shape:  (307511, 122)\n"
     ]
    },
    {
     "data": {
      "text/html": [
       "<div>\n",
       "<style scoped>\n",
       "    .dataframe tbody tr th:only-of-type {\n",
       "        vertical-align: middle;\n",
       "    }\n",
       "\n",
       "    .dataframe tbody tr th {\n",
       "        vertical-align: top;\n",
       "    }\n",
       "\n",
       "    .dataframe thead th {\n",
       "        text-align: right;\n",
       "    }\n",
       "</style>\n",
       "<table border=\"1\" class=\"dataframe\">\n",
       "  <thead>\n",
       "    <tr style=\"text-align: right;\">\n",
       "      <th></th>\n",
       "      <th>SK_ID_CURR</th>\n",
       "      <th>TARGET</th>\n",
       "      <th>NAME_CONTRACT_TYPE</th>\n",
       "      <th>CODE_GENDER</th>\n",
       "      <th>FLAG_OWN_CAR</th>\n",
       "      <th>FLAG_OWN_REALTY</th>\n",
       "      <th>CNT_CHILDREN</th>\n",
       "      <th>AMT_INCOME_TOTAL</th>\n",
       "      <th>AMT_CREDIT</th>\n",
       "      <th>AMT_ANNUITY</th>\n",
       "      <th>...</th>\n",
       "      <th>FLAG_DOCUMENT_18</th>\n",
       "      <th>FLAG_DOCUMENT_19</th>\n",
       "      <th>FLAG_DOCUMENT_20</th>\n",
       "      <th>FLAG_DOCUMENT_21</th>\n",
       "      <th>AMT_REQ_CREDIT_BUREAU_HOUR</th>\n",
       "      <th>AMT_REQ_CREDIT_BUREAU_DAY</th>\n",
       "      <th>AMT_REQ_CREDIT_BUREAU_WEEK</th>\n",
       "      <th>AMT_REQ_CREDIT_BUREAU_MON</th>\n",
       "      <th>AMT_REQ_CREDIT_BUREAU_QRT</th>\n",
       "      <th>AMT_REQ_CREDIT_BUREAU_YEAR</th>\n",
       "    </tr>\n",
       "  </thead>\n",
       "  <tbody>\n",
       "    <tr>\n",
       "      <th>0</th>\n",
       "      <td>100002</td>\n",
       "      <td>1</td>\n",
       "      <td>Cash loans</td>\n",
       "      <td>M</td>\n",
       "      <td>N</td>\n",
       "      <td>Y</td>\n",
       "      <td>0</td>\n",
       "      <td>202500.0</td>\n",
       "      <td>406597.5</td>\n",
       "      <td>24700.5</td>\n",
       "      <td>...</td>\n",
       "      <td>0</td>\n",
       "      <td>0</td>\n",
       "      <td>0</td>\n",
       "      <td>0</td>\n",
       "      <td>0.0</td>\n",
       "      <td>0.0</td>\n",
       "      <td>0.0</td>\n",
       "      <td>0.0</td>\n",
       "      <td>0.0</td>\n",
       "      <td>1.0</td>\n",
       "    </tr>\n",
       "    <tr>\n",
       "      <th>1</th>\n",
       "      <td>100003</td>\n",
       "      <td>0</td>\n",
       "      <td>Cash loans</td>\n",
       "      <td>F</td>\n",
       "      <td>N</td>\n",
       "      <td>N</td>\n",
       "      <td>0</td>\n",
       "      <td>270000.0</td>\n",
       "      <td>1293502.5</td>\n",
       "      <td>35698.5</td>\n",
       "      <td>...</td>\n",
       "      <td>0</td>\n",
       "      <td>0</td>\n",
       "      <td>0</td>\n",
       "      <td>0</td>\n",
       "      <td>0.0</td>\n",
       "      <td>0.0</td>\n",
       "      <td>0.0</td>\n",
       "      <td>0.0</td>\n",
       "      <td>0.0</td>\n",
       "      <td>0.0</td>\n",
       "    </tr>\n",
       "    <tr>\n",
       "      <th>2</th>\n",
       "      <td>100004</td>\n",
       "      <td>0</td>\n",
       "      <td>Revolving loans</td>\n",
       "      <td>M</td>\n",
       "      <td>Y</td>\n",
       "      <td>Y</td>\n",
       "      <td>0</td>\n",
       "      <td>67500.0</td>\n",
       "      <td>135000.0</td>\n",
       "      <td>6750.0</td>\n",
       "      <td>...</td>\n",
       "      <td>0</td>\n",
       "      <td>0</td>\n",
       "      <td>0</td>\n",
       "      <td>0</td>\n",
       "      <td>0.0</td>\n",
       "      <td>0.0</td>\n",
       "      <td>0.0</td>\n",
       "      <td>0.0</td>\n",
       "      <td>0.0</td>\n",
       "      <td>0.0</td>\n",
       "    </tr>\n",
       "    <tr>\n",
       "      <th>3</th>\n",
       "      <td>100006</td>\n",
       "      <td>0</td>\n",
       "      <td>Cash loans</td>\n",
       "      <td>F</td>\n",
       "      <td>N</td>\n",
       "      <td>Y</td>\n",
       "      <td>0</td>\n",
       "      <td>135000.0</td>\n",
       "      <td>312682.5</td>\n",
       "      <td>29686.5</td>\n",
       "      <td>...</td>\n",
       "      <td>0</td>\n",
       "      <td>0</td>\n",
       "      <td>0</td>\n",
       "      <td>0</td>\n",
       "      <td>NaN</td>\n",
       "      <td>NaN</td>\n",
       "      <td>NaN</td>\n",
       "      <td>NaN</td>\n",
       "      <td>NaN</td>\n",
       "      <td>NaN</td>\n",
       "    </tr>\n",
       "    <tr>\n",
       "      <th>4</th>\n",
       "      <td>100007</td>\n",
       "      <td>0</td>\n",
       "      <td>Cash loans</td>\n",
       "      <td>M</td>\n",
       "      <td>N</td>\n",
       "      <td>Y</td>\n",
       "      <td>0</td>\n",
       "      <td>121500.0</td>\n",
       "      <td>513000.0</td>\n",
       "      <td>21865.5</td>\n",
       "      <td>...</td>\n",
       "      <td>0</td>\n",
       "      <td>0</td>\n",
       "      <td>0</td>\n",
       "      <td>0</td>\n",
       "      <td>0.0</td>\n",
       "      <td>0.0</td>\n",
       "      <td>0.0</td>\n",
       "      <td>0.0</td>\n",
       "      <td>0.0</td>\n",
       "      <td>0.0</td>\n",
       "    </tr>\n",
       "  </tbody>\n",
       "</table>\n",
       "<p>5 rows × 122 columns</p>\n",
       "</div>"
      ],
      "text/plain": [
       "   SK_ID_CURR  TARGET NAME_CONTRACT_TYPE CODE_GENDER FLAG_OWN_CAR  \\\n",
       "0      100002       1         Cash loans           M            N   \n",
       "1      100003       0         Cash loans           F            N   \n",
       "2      100004       0    Revolving loans           M            Y   \n",
       "3      100006       0         Cash loans           F            N   \n",
       "4      100007       0         Cash loans           M            N   \n",
       "\n",
       "  FLAG_OWN_REALTY  CNT_CHILDREN  AMT_INCOME_TOTAL  AMT_CREDIT  AMT_ANNUITY  \\\n",
       "0               Y             0          202500.0    406597.5      24700.5   \n",
       "1               N             0          270000.0   1293502.5      35698.5   \n",
       "2               Y             0           67500.0    135000.0       6750.0   \n",
       "3               Y             0          135000.0    312682.5      29686.5   \n",
       "4               Y             0          121500.0    513000.0      21865.5   \n",
       "\n",
       "              ...              FLAG_DOCUMENT_18 FLAG_DOCUMENT_19  \\\n",
       "0             ...                             0                0   \n",
       "1             ...                             0                0   \n",
       "2             ...                             0                0   \n",
       "3             ...                             0                0   \n",
       "4             ...                             0                0   \n",
       "\n",
       "  FLAG_DOCUMENT_20 FLAG_DOCUMENT_21 AMT_REQ_CREDIT_BUREAU_HOUR  \\\n",
       "0                0                0                        0.0   \n",
       "1                0                0                        0.0   \n",
       "2                0                0                        0.0   \n",
       "3                0                0                        NaN   \n",
       "4                0                0                        0.0   \n",
       "\n",
       "  AMT_REQ_CREDIT_BUREAU_DAY  AMT_REQ_CREDIT_BUREAU_WEEK  \\\n",
       "0                       0.0                         0.0   \n",
       "1                       0.0                         0.0   \n",
       "2                       0.0                         0.0   \n",
       "3                       NaN                         NaN   \n",
       "4                       0.0                         0.0   \n",
       "\n",
       "   AMT_REQ_CREDIT_BUREAU_MON  AMT_REQ_CREDIT_BUREAU_QRT  \\\n",
       "0                        0.0                        0.0   \n",
       "1                        0.0                        0.0   \n",
       "2                        0.0                        0.0   \n",
       "3                        NaN                        NaN   \n",
       "4                        0.0                        0.0   \n",
       "\n",
       "   AMT_REQ_CREDIT_BUREAU_YEAR  \n",
       "0                         1.0  \n",
       "1                         0.0  \n",
       "2                         0.0  \n",
       "3                         NaN  \n",
       "4                         0.0  \n",
       "\n",
       "[5 rows x 122 columns]"
      ]
     },
     "execution_count": 89,
     "metadata": {},
     "output_type": "execute_result"
    }
   ],
   "source": [
    "#Get working directory from file system\n",
    "fileDir = os.path.dirname(os.path.realpath('__file__'))\n",
    "\n",
    "#Get fully qualified path to subdirectory containing my training data\n",
    "training_data_csv = os.path.join(fileDir, 'Data\\\\application_train.csv')\n",
    "\n",
    "#Read training data into pandas dataframe from CSV using built-in method\n",
    "app_train = pd.read_csv(training_data_csv)\n",
    "\n",
    "#Visualize data\n",
    "print('Training data shape: ', app_train.shape)\n",
    "app_train.head()"
   ]
  },
  {
   "cell_type": "code",
   "execution_count": 90,
   "metadata": {},
   "outputs": [
    {
     "name": "stdout",
     "output_type": "stream",
     "text": [
      "Test data shape:  (48744, 121)\n"
     ]
    },
    {
     "data": {
      "text/html": [
       "<div>\n",
       "<style scoped>\n",
       "    .dataframe tbody tr th:only-of-type {\n",
       "        vertical-align: middle;\n",
       "    }\n",
       "\n",
       "    .dataframe tbody tr th {\n",
       "        vertical-align: top;\n",
       "    }\n",
       "\n",
       "    .dataframe thead th {\n",
       "        text-align: right;\n",
       "    }\n",
       "</style>\n",
       "<table border=\"1\" class=\"dataframe\">\n",
       "  <thead>\n",
       "    <tr style=\"text-align: right;\">\n",
       "      <th></th>\n",
       "      <th>SK_ID_CURR</th>\n",
       "      <th>NAME_CONTRACT_TYPE</th>\n",
       "      <th>CODE_GENDER</th>\n",
       "      <th>FLAG_OWN_CAR</th>\n",
       "      <th>FLAG_OWN_REALTY</th>\n",
       "      <th>CNT_CHILDREN</th>\n",
       "      <th>AMT_INCOME_TOTAL</th>\n",
       "      <th>AMT_CREDIT</th>\n",
       "      <th>AMT_ANNUITY</th>\n",
       "      <th>AMT_GOODS_PRICE</th>\n",
       "      <th>...</th>\n",
       "      <th>FLAG_DOCUMENT_18</th>\n",
       "      <th>FLAG_DOCUMENT_19</th>\n",
       "      <th>FLAG_DOCUMENT_20</th>\n",
       "      <th>FLAG_DOCUMENT_21</th>\n",
       "      <th>AMT_REQ_CREDIT_BUREAU_HOUR</th>\n",
       "      <th>AMT_REQ_CREDIT_BUREAU_DAY</th>\n",
       "      <th>AMT_REQ_CREDIT_BUREAU_WEEK</th>\n",
       "      <th>AMT_REQ_CREDIT_BUREAU_MON</th>\n",
       "      <th>AMT_REQ_CREDIT_BUREAU_QRT</th>\n",
       "      <th>AMT_REQ_CREDIT_BUREAU_YEAR</th>\n",
       "    </tr>\n",
       "  </thead>\n",
       "  <tbody>\n",
       "    <tr>\n",
       "      <th>0</th>\n",
       "      <td>100001</td>\n",
       "      <td>Cash loans</td>\n",
       "      <td>F</td>\n",
       "      <td>N</td>\n",
       "      <td>Y</td>\n",
       "      <td>0</td>\n",
       "      <td>135000.0</td>\n",
       "      <td>568800.0</td>\n",
       "      <td>20560.5</td>\n",
       "      <td>450000.0</td>\n",
       "      <td>...</td>\n",
       "      <td>0</td>\n",
       "      <td>0</td>\n",
       "      <td>0</td>\n",
       "      <td>0</td>\n",
       "      <td>0.0</td>\n",
       "      <td>0.0</td>\n",
       "      <td>0.0</td>\n",
       "      <td>0.0</td>\n",
       "      <td>0.0</td>\n",
       "      <td>0.0</td>\n",
       "    </tr>\n",
       "    <tr>\n",
       "      <th>1</th>\n",
       "      <td>100005</td>\n",
       "      <td>Cash loans</td>\n",
       "      <td>M</td>\n",
       "      <td>N</td>\n",
       "      <td>Y</td>\n",
       "      <td>0</td>\n",
       "      <td>99000.0</td>\n",
       "      <td>222768.0</td>\n",
       "      <td>17370.0</td>\n",
       "      <td>180000.0</td>\n",
       "      <td>...</td>\n",
       "      <td>0</td>\n",
       "      <td>0</td>\n",
       "      <td>0</td>\n",
       "      <td>0</td>\n",
       "      <td>0.0</td>\n",
       "      <td>0.0</td>\n",
       "      <td>0.0</td>\n",
       "      <td>0.0</td>\n",
       "      <td>0.0</td>\n",
       "      <td>3.0</td>\n",
       "    </tr>\n",
       "    <tr>\n",
       "      <th>2</th>\n",
       "      <td>100013</td>\n",
       "      <td>Cash loans</td>\n",
       "      <td>M</td>\n",
       "      <td>Y</td>\n",
       "      <td>Y</td>\n",
       "      <td>0</td>\n",
       "      <td>202500.0</td>\n",
       "      <td>663264.0</td>\n",
       "      <td>69777.0</td>\n",
       "      <td>630000.0</td>\n",
       "      <td>...</td>\n",
       "      <td>0</td>\n",
       "      <td>0</td>\n",
       "      <td>0</td>\n",
       "      <td>0</td>\n",
       "      <td>0.0</td>\n",
       "      <td>0.0</td>\n",
       "      <td>0.0</td>\n",
       "      <td>0.0</td>\n",
       "      <td>1.0</td>\n",
       "      <td>4.0</td>\n",
       "    </tr>\n",
       "    <tr>\n",
       "      <th>3</th>\n",
       "      <td>100028</td>\n",
       "      <td>Cash loans</td>\n",
       "      <td>F</td>\n",
       "      <td>N</td>\n",
       "      <td>Y</td>\n",
       "      <td>2</td>\n",
       "      <td>315000.0</td>\n",
       "      <td>1575000.0</td>\n",
       "      <td>49018.5</td>\n",
       "      <td>1575000.0</td>\n",
       "      <td>...</td>\n",
       "      <td>0</td>\n",
       "      <td>0</td>\n",
       "      <td>0</td>\n",
       "      <td>0</td>\n",
       "      <td>0.0</td>\n",
       "      <td>0.0</td>\n",
       "      <td>0.0</td>\n",
       "      <td>0.0</td>\n",
       "      <td>0.0</td>\n",
       "      <td>3.0</td>\n",
       "    </tr>\n",
       "    <tr>\n",
       "      <th>4</th>\n",
       "      <td>100038</td>\n",
       "      <td>Cash loans</td>\n",
       "      <td>M</td>\n",
       "      <td>Y</td>\n",
       "      <td>N</td>\n",
       "      <td>1</td>\n",
       "      <td>180000.0</td>\n",
       "      <td>625500.0</td>\n",
       "      <td>32067.0</td>\n",
       "      <td>625500.0</td>\n",
       "      <td>...</td>\n",
       "      <td>0</td>\n",
       "      <td>0</td>\n",
       "      <td>0</td>\n",
       "      <td>0</td>\n",
       "      <td>NaN</td>\n",
       "      <td>NaN</td>\n",
       "      <td>NaN</td>\n",
       "      <td>NaN</td>\n",
       "      <td>NaN</td>\n",
       "      <td>NaN</td>\n",
       "    </tr>\n",
       "  </tbody>\n",
       "</table>\n",
       "<p>5 rows × 121 columns</p>\n",
       "</div>"
      ],
      "text/plain": [
       "   SK_ID_CURR NAME_CONTRACT_TYPE CODE_GENDER FLAG_OWN_CAR FLAG_OWN_REALTY  \\\n",
       "0      100001         Cash loans           F            N               Y   \n",
       "1      100005         Cash loans           M            N               Y   \n",
       "2      100013         Cash loans           M            Y               Y   \n",
       "3      100028         Cash loans           F            N               Y   \n",
       "4      100038         Cash loans           M            Y               N   \n",
       "\n",
       "   CNT_CHILDREN  AMT_INCOME_TOTAL  AMT_CREDIT  AMT_ANNUITY  AMT_GOODS_PRICE  \\\n",
       "0             0          135000.0    568800.0      20560.5         450000.0   \n",
       "1             0           99000.0    222768.0      17370.0         180000.0   \n",
       "2             0          202500.0    663264.0      69777.0         630000.0   \n",
       "3             2          315000.0   1575000.0      49018.5        1575000.0   \n",
       "4             1          180000.0    625500.0      32067.0         625500.0   \n",
       "\n",
       "              ...             FLAG_DOCUMENT_18 FLAG_DOCUMENT_19  \\\n",
       "0             ...                            0                0   \n",
       "1             ...                            0                0   \n",
       "2             ...                            0                0   \n",
       "3             ...                            0                0   \n",
       "4             ...                            0                0   \n",
       "\n",
       "  FLAG_DOCUMENT_20 FLAG_DOCUMENT_21 AMT_REQ_CREDIT_BUREAU_HOUR  \\\n",
       "0                0                0                        0.0   \n",
       "1                0                0                        0.0   \n",
       "2                0                0                        0.0   \n",
       "3                0                0                        0.0   \n",
       "4                0                0                        NaN   \n",
       "\n",
       "   AMT_REQ_CREDIT_BUREAU_DAY  AMT_REQ_CREDIT_BUREAU_WEEK  \\\n",
       "0                        0.0                         0.0   \n",
       "1                        0.0                         0.0   \n",
       "2                        0.0                         0.0   \n",
       "3                        0.0                         0.0   \n",
       "4                        NaN                         NaN   \n",
       "\n",
       "   AMT_REQ_CREDIT_BUREAU_MON  AMT_REQ_CREDIT_BUREAU_QRT  \\\n",
       "0                        0.0                        0.0   \n",
       "1                        0.0                        0.0   \n",
       "2                        0.0                        1.0   \n",
       "3                        0.0                        0.0   \n",
       "4                        NaN                        NaN   \n",
       "\n",
       "   AMT_REQ_CREDIT_BUREAU_YEAR  \n",
       "0                         0.0  \n",
       "1                         3.0  \n",
       "2                         4.0  \n",
       "3                         3.0  \n",
       "4                         NaN  \n",
       "\n",
       "[5 rows x 121 columns]"
      ]
     },
     "execution_count": 90,
     "metadata": {},
     "output_type": "execute_result"
    }
   ],
   "source": [
    "#Now do the same for test data\n",
    "test_data_csv = os.path.join(fileDir, \"Data\\\\application_test.csv\")\n",
    "app_test  = pd.read_csv(test_data_csv)\n",
    "print(\"Test data shape: \", app_test.shape)\n",
    "app_test.head()"
   ]
  },
  {
   "cell_type": "markdown",
   "metadata": {},
   "source": [
    "# Data Analysis\n",
    "Performing deep dive source data analysis of the main files to figure out things like target distribution, correlation, etc."
   ]
  },
  {
   "cell_type": "code",
   "execution_count": 91,
   "metadata": {},
   "outputs": [
    {
     "data": {
      "text/plain": [
       "Text(0.5,0,'Target variable 0 - 1')"
      ]
     },
     "execution_count": 91,
     "metadata": {},
     "output_type": "execute_result"
    },
    {
     "data": {
      "image/png": "[encoded data removed]",
      "text/plain": [
       "<Figure size 432x288 with 1 Axes>"
      ]
     },
     "metadata": {},
     "output_type": "display_data"
    }
   ],
   "source": [
    "#Target variable distribution\n",
    "app_train['TARGET'].value_counts()\n",
    "app_train['TARGET'].astype(int).plot.hist();\n",
    "plt.xlabel('Target variable 0 - 1')"
   ]
  },
  {
   "cell_type": "markdown",
   "metadata": {},
   "source": [
    "Very, very uneven distribution!! This type of distribution lends itself actually quite well to a ROC AUC type analysis vs. a traditional accuracy score."
   ]
  },
  {
   "cell_type": "code",
   "execution_count": 92,
   "metadata": {},
   "outputs": [],
   "source": [
    "## Data consistency / missing values\n",
    "\n",
    "# Function to calculate missing values by column# Funct \n",
    "def missing_values_table(df):\n",
    "        # Total missing values\n",
    "        mis_val = df.isnull().sum()\n",
    "        \n",
    "        # Percentage of missing values\n",
    "        mis_val_percent = 100 * df.isnull().sum() / len(df)\n",
    "        \n",
    "        # Make a table with the results\n",
    "        mis_val_table = pd.concat([mis_val, mis_val_percent], axis=1)\n",
    "        \n",
    "        # Rename the columns\n",
    "        mis_val_table_ren_columns = mis_val_table.rename(\n",
    "        columns = {0 : 'Missing Values', 1 : '% of Total Values'})\n",
    "        \n",
    "        # Sort the table by percentage of missing descending\n",
    "        mis_val_table_ren_columns = mis_val_table_ren_columns[\n",
    "            mis_val_table_ren_columns.iloc[:,1] != 0].sort_values(\n",
    "        '% of Total Values', ascending=False).round(1)\n",
    "        \n",
    "        # Print some summary information\n",
    "        print (\"Your selected dataframe has \" + str(df.shape[1]) + \" columns.\\n\"      \n",
    "            \"There are \" + str(mis_val_table_ren_columns.shape[0]) +\n",
    "              \" columns that have missing values.\")\n",
    "        \n",
    "        # Return the dataframe with missing information\n",
    "        return mis_val_table_ren_columns"
   ]
  },
  {
   "cell_type": "code",
   "execution_count": 93,
   "metadata": {},
   "outputs": [
    {
     "name": "stdout",
     "output_type": "stream",
     "text": [
      "Your selected dataframe has 122 columns.\n",
      "There are 67 columns that have missing values.\n"
     ]
    },
    {
     "data": {
      "text/html": [
       "<div>\n",
       "<style scoped>\n",
       "    .dataframe tbody tr th:only-of-type {\n",
       "        vertical-align: middle;\n",
       "    }\n",
       "\n",
       "    .dataframe tbody tr th {\n",
       "        vertical-align: top;\n",
       "    }\n",
       "\n",
       "    .dataframe thead th {\n",
       "        text-align: right;\n",
       "    }\n",
       "</style>\n",
       "<table border=\"1\" class=\"dataframe\">\n",
       "  <thead>\n",
       "    <tr style=\"text-align: right;\">\n",
       "      <th></th>\n",
       "      <th>Missing Values</th>\n",
       "      <th>% of Total Values</th>\n",
       "    </tr>\n",
       "  </thead>\n",
       "  <tbody>\n",
       "    <tr>\n",
       "      <th>COMMONAREA_MEDI</th>\n",
       "      <td>214865</td>\n",
       "      <td>69.9</td>\n",
       "    </tr>\n",
       "    <tr>\n",
       "      <th>COMMONAREA_AVG</th>\n",
       "      <td>214865</td>\n",
       "      <td>69.9</td>\n",
       "    </tr>\n",
       "    <tr>\n",
       "      <th>COMMONAREA_MODE</th>\n",
       "      <td>214865</td>\n",
       "      <td>69.9</td>\n",
       "    </tr>\n",
       "    <tr>\n",
       "      <th>NONLIVINGAPARTMENTS_MEDI</th>\n",
       "      <td>213514</td>\n",
       "      <td>69.4</td>\n",
       "    </tr>\n",
       "    <tr>\n",
       "      <th>NONLIVINGAPARTMENTS_MODE</th>\n",
       "      <td>213514</td>\n",
       "      <td>69.4</td>\n",
       "    </tr>\n",
       "    <tr>\n",
       "      <th>NONLIVINGAPARTMENTS_AVG</th>\n",
       "      <td>213514</td>\n",
       "      <td>69.4</td>\n",
       "    </tr>\n",
       "    <tr>\n",
       "      <th>FONDKAPREMONT_MODE</th>\n",
       "      <td>210295</td>\n",
       "      <td>68.4</td>\n",
       "    </tr>\n",
       "    <tr>\n",
       "      <th>LIVINGAPARTMENTS_MODE</th>\n",
       "      <td>210199</td>\n",
       "      <td>68.4</td>\n",
       "    </tr>\n",
       "    <tr>\n",
       "      <th>LIVINGAPARTMENTS_MEDI</th>\n",
       "      <td>210199</td>\n",
       "      <td>68.4</td>\n",
       "    </tr>\n",
       "    <tr>\n",
       "      <th>LIVINGAPARTMENTS_AVG</th>\n",
       "      <td>210199</td>\n",
       "      <td>68.4</td>\n",
       "    </tr>\n",
       "    <tr>\n",
       "      <th>FLOORSMIN_MODE</th>\n",
       "      <td>208642</td>\n",
       "      <td>67.8</td>\n",
       "    </tr>\n",
       "    <tr>\n",
       "      <th>FLOORSMIN_MEDI</th>\n",
       "      <td>208642</td>\n",
       "      <td>67.8</td>\n",
       "    </tr>\n",
       "    <tr>\n",
       "      <th>FLOORSMIN_AVG</th>\n",
       "      <td>208642</td>\n",
       "      <td>67.8</td>\n",
       "    </tr>\n",
       "    <tr>\n",
       "      <th>YEARS_BUILD_MODE</th>\n",
       "      <td>204488</td>\n",
       "      <td>66.5</td>\n",
       "    </tr>\n",
       "    <tr>\n",
       "      <th>YEARS_BUILD_MEDI</th>\n",
       "      <td>204488</td>\n",
       "      <td>66.5</td>\n",
       "    </tr>\n",
       "    <tr>\n",
       "      <th>YEARS_BUILD_AVG</th>\n",
       "      <td>204488</td>\n",
       "      <td>66.5</td>\n",
       "    </tr>\n",
       "    <tr>\n",
       "      <th>OWN_CAR_AGE</th>\n",
       "      <td>202929</td>\n",
       "      <td>66.0</td>\n",
       "    </tr>\n",
       "    <tr>\n",
       "      <th>LANDAREA_AVG</th>\n",
       "      <td>182590</td>\n",
       "      <td>59.4</td>\n",
       "    </tr>\n",
       "    <tr>\n",
       "      <th>LANDAREA_MEDI</th>\n",
       "      <td>182590</td>\n",
       "      <td>59.4</td>\n",
       "    </tr>\n",
       "    <tr>\n",
       "      <th>LANDAREA_MODE</th>\n",
       "      <td>182590</td>\n",
       "      <td>59.4</td>\n",
       "    </tr>\n",
       "  </tbody>\n",
       "</table>\n",
       "</div>"
      ],
      "text/plain": [
       "                          Missing Values  % of Total Values\n",
       "COMMONAREA_MEDI                   214865               69.9\n",
       "COMMONAREA_AVG                    214865               69.9\n",
       "COMMONAREA_MODE                   214865               69.9\n",
       "NONLIVINGAPARTMENTS_MEDI          213514               69.4\n",
       "NONLIVINGAPARTMENTS_MODE          213514               69.4\n",
       "NONLIVINGAPARTMENTS_AVG           213514               69.4\n",
       "FONDKAPREMONT_MODE                210295               68.4\n",
       "LIVINGAPARTMENTS_MODE             210199               68.4\n",
       "LIVINGAPARTMENTS_MEDI             210199               68.4\n",
       "LIVINGAPARTMENTS_AVG              210199               68.4\n",
       "FLOORSMIN_MODE                    208642               67.8\n",
       "FLOORSMIN_MEDI                    208642               67.8\n",
       "FLOORSMIN_AVG                     208642               67.8\n",
       "YEARS_BUILD_MODE                  204488               66.5\n",
       "YEARS_BUILD_MEDI                  204488               66.5\n",
       "YEARS_BUILD_AVG                   204488               66.5\n",
       "OWN_CAR_AGE                       202929               66.0\n",
       "LANDAREA_AVG                      182590               59.4\n",
       "LANDAREA_MEDI                     182590               59.4\n",
       "LANDAREA_MODE                     182590               59.4"
      ]
     },
     "execution_count": 93,
     "metadata": {},
     "output_type": "execute_result"
    }
   ],
   "source": [
    "# Missing values statistics\n",
    "missing_values = missing_values_table(app_train)\n",
    "missing_values.head(20)"
   ]
  },
  {
   "cell_type": "markdown",
   "metadata": {},
   "source": [
    "Lots of missing values in 67 out of 122 columns!\n",
    "Unsurprisingly, some of the more specific housing details are missing / may not be available or never have been collected for applicants depending on source geography, loan type, date of loan issued, and other bank-specific parameters. Since I will use LGBM that should be OK as this a very resilient model when it comes to missing values."
   ]
  },
  {
   "cell_type": "markdown",
   "metadata": {},
   "source": [
    "## Variable types\n",
    "Categorical vs. non-categorical/continous/discrete data"
   ]
  },
  {
   "cell_type": "code",
   "execution_count": 94,
   "metadata": {},
   "outputs": [
    {
     "data": {
      "text/plain": [
       "float64    65\n",
       "int64      41\n",
       "object     16\n",
       "dtype: int64"
      ]
     },
     "execution_count": 94,
     "metadata": {},
     "output_type": "execute_result"
    }
   ],
   "source": [
    "# Number of each type of column\n",
    "app_train.dtypes.value_counts()"
   ]
  },
  {
   "cell_type": "code",
   "execution_count": 95,
   "metadata": {},
   "outputs": [
    {
     "data": {
      "text/plain": [
       "NAME_CONTRACT_TYPE             2\n",
       "CODE_GENDER                    3\n",
       "FLAG_OWN_CAR                   2\n",
       "FLAG_OWN_REALTY                2\n",
       "NAME_TYPE_SUITE                7\n",
       "NAME_INCOME_TYPE               8\n",
       "NAME_EDUCATION_TYPE            5\n",
       "NAME_FAMILY_STATUS             6\n",
       "NAME_HOUSING_TYPE              6\n",
       "OCCUPATION_TYPE               18\n",
       "WEEKDAY_APPR_PROCESS_START     7\n",
       "ORGANIZATION_TYPE             58\n",
       "FONDKAPREMONT_MODE             4\n",
       "HOUSETYPE_MODE                 3\n",
       "WALLSMATERIAL_MODE             7\n",
       "EMERGENCYSTATE_MODE            2\n",
       "dtype: int64"
      ]
     },
     "execution_count": 95,
     "metadata": {},
     "output_type": "execute_result"
    }
   ],
   "source": [
    "# Deeper dive on categoricals that will need to be one-hot encoded \n",
    "app_train.select_dtypes('object').apply(pd.Series.nunique, axis = 0)"
   ]
  },
  {
   "cell_type": "markdown",
   "metadata": {},
   "source": [
    "## One Hot Encoding to deal with categoricals"
   ]
  },
  {
   "cell_type": "code",
   "execution_count": 96,
   "metadata": {},
   "outputs": [
    {
     "name": "stdout",
     "output_type": "stream",
     "text": [
      "Training Features shape:  (307511, 246)\n",
      "Testing Features shape:  (48744, 242)\n"
     ]
    }
   ],
   "source": [
    "# one-hot encoding of categorical variables\n",
    "app_train = pd.get_dummies(app_train)\n",
    "app_test = pd.get_dummies(app_test)\n",
    "\n",
    "print('Training Features shape: ', app_train.shape)\n",
    "print('Testing Features shape: ', app_test.shape)"
   ]
  },
  {
   "cell_type": "markdown",
   "metadata": {},
   "source": [
    "Interesting result\n",
    "* Training Features shape:  (307511, 246)\n",
    "* Testing Features shape:  (48744, 242)\n",
    "\n",
    "Clearly there were four more categorical items present in the training than in the testing data. \n",
    "Need to align these two dat sets to be able to safely process"
   ]
  },
  {
   "cell_type": "code",
   "execution_count": 97,
   "metadata": {},
   "outputs": [
    {
     "name": "stdout",
     "output_type": "stream",
     "text": [
      "Training Features shape:  (307511, 243)\n",
      "Testing Features shape:  (48744, 242)\n"
     ]
    }
   ],
   "source": [
    "#Set aside training labels from training dataframe for safekeeping\n",
    "train_labels = app_train['TARGET']\n",
    "\n",
    "# Discard things not found in both data frames\n",
    "app_train, app_test = app_train.align(app_test, join = 'inner', axis = 1)\n",
    "\n",
    "# Put target back\n",
    "app_train['TARGET'] = train_labels\n",
    "\n",
    "print('Training Features shape: ', app_train.shape)\n",
    "print('Testing Features shape: ', app_test.shape)"
   ]
  },
  {
   "cell_type": "code",
   "execution_count": 98,
   "metadata": {},
   "outputs": [
    {
     "data": {
      "text/html": [
       "<div>\n",
       "<style scoped>\n",
       "    .dataframe tbody tr th:only-of-type {\n",
       "        vertical-align: middle;\n",
       "    }\n",
       "\n",
       "    .dataframe tbody tr th {\n",
       "        vertical-align: top;\n",
       "    }\n",
       "\n",
       "    .dataframe thead th {\n",
       "        text-align: right;\n",
       "    }\n",
       "</style>\n",
       "<table border=\"1\" class=\"dataframe\">\n",
       "  <thead>\n",
       "    <tr style=\"text-align: right;\">\n",
       "      <th></th>\n",
       "      <th>NAME_FAMILY_STATUS_Civil marriage</th>\n",
       "      <th>NAME_FAMILY_STATUS_Married</th>\n",
       "      <th>NAME_FAMILY_STATUS_Separated</th>\n",
       "      <th>NAME_FAMILY_STATUS_Single / not married</th>\n",
       "      <th>NAME_FAMILY_STATUS_Widow</th>\n",
       "    </tr>\n",
       "  </thead>\n",
       "  <tbody>\n",
       "    <tr>\n",
       "      <th>0</th>\n",
       "      <td>0</td>\n",
       "      <td>0</td>\n",
       "      <td>0</td>\n",
       "      <td>1</td>\n",
       "      <td>0</td>\n",
       "    </tr>\n",
       "    <tr>\n",
       "      <th>1</th>\n",
       "      <td>0</td>\n",
       "      <td>1</td>\n",
       "      <td>0</td>\n",
       "      <td>0</td>\n",
       "      <td>0</td>\n",
       "    </tr>\n",
       "    <tr>\n",
       "      <th>2</th>\n",
       "      <td>0</td>\n",
       "      <td>0</td>\n",
       "      <td>0</td>\n",
       "      <td>1</td>\n",
       "      <td>0</td>\n",
       "    </tr>\n",
       "    <tr>\n",
       "      <th>3</th>\n",
       "      <td>1</td>\n",
       "      <td>0</td>\n",
       "      <td>0</td>\n",
       "      <td>0</td>\n",
       "      <td>0</td>\n",
       "    </tr>\n",
       "    <tr>\n",
       "      <th>4</th>\n",
       "      <td>0</td>\n",
       "      <td>0</td>\n",
       "      <td>0</td>\n",
       "      <td>1</td>\n",
       "      <td>0</td>\n",
       "    </tr>\n",
       "    <tr>\n",
       "      <th>5</th>\n",
       "      <td>0</td>\n",
       "      <td>1</td>\n",
       "      <td>0</td>\n",
       "      <td>0</td>\n",
       "      <td>0</td>\n",
       "    </tr>\n",
       "    <tr>\n",
       "      <th>6</th>\n",
       "      <td>0</td>\n",
       "      <td>1</td>\n",
       "      <td>0</td>\n",
       "      <td>0</td>\n",
       "      <td>0</td>\n",
       "    </tr>\n",
       "    <tr>\n",
       "      <th>7</th>\n",
       "      <td>0</td>\n",
       "      <td>1</td>\n",
       "      <td>0</td>\n",
       "      <td>0</td>\n",
       "      <td>0</td>\n",
       "    </tr>\n",
       "    <tr>\n",
       "      <th>8</th>\n",
       "      <td>0</td>\n",
       "      <td>1</td>\n",
       "      <td>0</td>\n",
       "      <td>0</td>\n",
       "      <td>0</td>\n",
       "    </tr>\n",
       "    <tr>\n",
       "      <th>9</th>\n",
       "      <td>0</td>\n",
       "      <td>0</td>\n",
       "      <td>0</td>\n",
       "      <td>1</td>\n",
       "      <td>0</td>\n",
       "    </tr>\n",
       "    <tr>\n",
       "      <th>10</th>\n",
       "      <td>0</td>\n",
       "      <td>1</td>\n",
       "      <td>0</td>\n",
       "      <td>0</td>\n",
       "      <td>0</td>\n",
       "    </tr>\n",
       "    <tr>\n",
       "      <th>11</th>\n",
       "      <td>0</td>\n",
       "      <td>1</td>\n",
       "      <td>0</td>\n",
       "      <td>0</td>\n",
       "      <td>0</td>\n",
       "    </tr>\n",
       "    <tr>\n",
       "      <th>12</th>\n",
       "      <td>0</td>\n",
       "      <td>1</td>\n",
       "      <td>0</td>\n",
       "      <td>0</td>\n",
       "      <td>0</td>\n",
       "    </tr>\n",
       "    <tr>\n",
       "      <th>13</th>\n",
       "      <td>0</td>\n",
       "      <td>1</td>\n",
       "      <td>0</td>\n",
       "      <td>0</td>\n",
       "      <td>0</td>\n",
       "    </tr>\n",
       "    <tr>\n",
       "      <th>14</th>\n",
       "      <td>0</td>\n",
       "      <td>1</td>\n",
       "      <td>0</td>\n",
       "      <td>0</td>\n",
       "      <td>0</td>\n",
       "    </tr>\n",
       "    <tr>\n",
       "      <th>15</th>\n",
       "      <td>0</td>\n",
       "      <td>0</td>\n",
       "      <td>0</td>\n",
       "      <td>1</td>\n",
       "      <td>0</td>\n",
       "    </tr>\n",
       "    <tr>\n",
       "      <th>16</th>\n",
       "      <td>0</td>\n",
       "      <td>1</td>\n",
       "      <td>0</td>\n",
       "      <td>0</td>\n",
       "      <td>0</td>\n",
       "    </tr>\n",
       "    <tr>\n",
       "      <th>17</th>\n",
       "      <td>0</td>\n",
       "      <td>1</td>\n",
       "      <td>0</td>\n",
       "      <td>0</td>\n",
       "      <td>0</td>\n",
       "    </tr>\n",
       "    <tr>\n",
       "      <th>18</th>\n",
       "      <td>0</td>\n",
       "      <td>0</td>\n",
       "      <td>0</td>\n",
       "      <td>0</td>\n",
       "      <td>1</td>\n",
       "    </tr>\n",
       "    <tr>\n",
       "      <th>19</th>\n",
       "      <td>0</td>\n",
       "      <td>0</td>\n",
       "      <td>0</td>\n",
       "      <td>1</td>\n",
       "      <td>0</td>\n",
       "    </tr>\n",
       "  </tbody>\n",
       "</table>\n",
       "</div>"
      ],
      "text/plain": [
       "    NAME_FAMILY_STATUS_Civil marriage  NAME_FAMILY_STATUS_Married  \\\n",
       "0                                   0                           0   \n",
       "1                                   0                           1   \n",
       "2                                   0                           0   \n",
       "3                                   1                           0   \n",
       "4                                   0                           0   \n",
       "5                                   0                           1   \n",
       "6                                   0                           1   \n",
       "7                                   0                           1   \n",
       "8                                   0                           1   \n",
       "9                                   0                           0   \n",
       "10                                  0                           1   \n",
       "11                                  0                           1   \n",
       "12                                  0                           1   \n",
       "13                                  0                           1   \n",
       "14                                  0                           1   \n",
       "15                                  0                           0   \n",
       "16                                  0                           1   \n",
       "17                                  0                           1   \n",
       "18                                  0                           0   \n",
       "19                                  0                           0   \n",
       "\n",
       "    NAME_FAMILY_STATUS_Separated  NAME_FAMILY_STATUS_Single / not married  \\\n",
       "0                              0                                        1   \n",
       "1                              0                                        0   \n",
       "2                              0                                        1   \n",
       "3                              0                                        0   \n",
       "4                              0                                        1   \n",
       "5                              0                                        0   \n",
       "6                              0                                        0   \n",
       "7                              0                                        0   \n",
       "8                              0                                        0   \n",
       "9                              0                                        1   \n",
       "10                             0                                        0   \n",
       "11                             0                                        0   \n",
       "12                             0                                        0   \n",
       "13                             0                                        0   \n",
       "14                             0                                        0   \n",
       "15                             0                                        1   \n",
       "16                             0                                        0   \n",
       "17                             0                                        0   \n",
       "18                             0                                        0   \n",
       "19                             0                                        1   \n",
       "\n",
       "    NAME_FAMILY_STATUS_Widow  \n",
       "0                          0  \n",
       "1                          0  \n",
       "2                          0  \n",
       "3                          0  \n",
       "4                          0  \n",
       "5                          0  \n",
       "6                          0  \n",
       "7                          0  \n",
       "8                          0  \n",
       "9                          0  \n",
       "10                         0  \n",
       "11                         0  \n",
       "12                         0  \n",
       "13                         0  \n",
       "14                         0  \n",
       "15                         0  \n",
       "16                         0  \n",
       "17                         0  \n",
       "18                         1  \n",
       "19                         0  "
      ]
     },
     "execution_count": 98,
     "metadata": {},
     "output_type": "execute_result"
    }
   ],
   "source": [
    "tmp_family_status = app_train.loc[:, app_train.columns.str.startswith('NAME_FAMILY_STATUS')]\n",
    "tmp_family_status.head(20)"
   ]
  },
  {
   "cell_type": "markdown",
   "metadata": {},
   "source": [
    "Excellent. Training features have all columns present in test features plus one extra column for \"Target\" variable."
   ]
  },
  {
   "cell_type": "markdown",
   "metadata": {},
   "source": [
    "## Outlier Detection and Management"
   ]
  },
  {
   "cell_type": "markdown",
   "metadata": {},
   "source": [
    "Let's make sure our data set doesn't contain wildly skewed data, especially in important categories like age, family size, employment history, etc."
   ]
  },
  {
   "cell_type": "markdown",
   "metadata": {},
   "source": [
    "## Age exploration"
   ]
  },
  {
   "cell_type": "code",
   "execution_count": 99,
   "metadata": {},
   "outputs": [
    {
     "data": {
      "text/plain": [
       "count    307511.000000\n",
       "mean         43.936973\n",
       "std          11.956133\n",
       "min          20.517808\n",
       "25%          34.008219\n",
       "50%          43.150685\n",
       "75%          53.923288\n",
       "max          69.120548\n",
       "Name: DAYS_BIRTH, dtype: float64"
      ]
     },
     "execution_count": 99,
     "metadata": {},
     "output_type": "execute_result"
    }
   ],
   "source": [
    "#Check key columns for anomalies\n",
    "(app_train['DAYS_BIRTH'] / -365).describe()"
   ]
  },
  {
   "cell_type": "code",
   "execution_count": 100,
   "metadata": {},
   "outputs": [
    {
     "data": {
      "image/png": "[encoded data removed]",
      "text/plain": [
       "<Figure size 432x288 with 1 Axes>"
      ]
     },
     "metadata": {},
     "output_type": "display_data"
    }
   ],
   "source": [
    "(app_train['DAYS_BIRTH'] / -365).astype(int).plot.hist(title = 'Age Distribution');\n",
    "plt.xlabel('Demographic distribution by year');"
   ]
  },
  {
   "cell_type": "markdown",
   "metadata": {},
   "source": [
    "Seems like a typical age distribution...validated using histogram as well. "
   ]
  },
  {
   "cell_type": "markdown",
   "metadata": {},
   "source": [
    "## Employment history exploration"
   ]
  },
  {
   "cell_type": "markdown",
   "metadata": {},
   "source": [
    "Let's do the same for employment history"
   ]
  },
  {
   "cell_type": "code",
   "execution_count": 101,
   "metadata": {},
   "outputs": [
    {
     "data": {
      "text/plain": [
       "count    307511.000000\n",
       "mean        174.835742\n",
       "std         387.056895\n",
       "min         -49.073973\n",
       "25%          -7.561644\n",
       "50%          -3.323288\n",
       "75%          -0.791781\n",
       "max        1000.665753\n",
       "Name: DAYS_EMPLOYED, dtype: float64"
      ]
     },
     "execution_count": 101,
     "metadata": {},
     "output_type": "execute_result"
    }
   ],
   "source": [
    "(app_train['DAYS_EMPLOYED']/365).describe()"
   ]
  },
  {
   "cell_type": "markdown",
   "metadata": {},
   "source": [
    "Hmmm...thousand year employment history seems excessive, unless this includes vampires and immortals.  Let's take a closer look. Are there only one category of outliers and what does it look like when we zoom in on just the probably values?"
   ]
  },
  {
   "cell_type": "code",
   "execution_count": 102,
   "metadata": {},
   "outputs": [
    {
     "data": {
      "image/png": "[encoded data removed]",
      "text/plain": [
       "<Figure size 432x288 with 1 Axes>"
      ]
     },
     "metadata": {},
     "output_type": "display_data"
    }
   ],
   "source": [
    "#Let's first take a look with the 1,000 year history included\n",
    "bin_values = np.arange(start=-50, stop=1100, step=10)\n",
    "(app_train['DAYS_EMPLOYED']/365).astype(int).plot.hist(title = 'Total Years of Employment - with outliers', bins=bin_values);\n",
    "plt.xlabel('Employment History in Years');"
   ]
  },
  {
   "cell_type": "code",
   "execution_count": 103,
   "metadata": {},
   "outputs": [
    {
     "data": {
      "image/png": "[encoded data removed]",
      "text/plain": [
       "<Figure size 432x288 with 1 Axes>"
      ]
     },
     "metadata": {},
     "output_type": "display_data"
    }
   ],
   "source": [
    "#Now let's zoom in on just the likely values\n",
    "bin_values = np.arange(start=-50, stop=0, step=1)\n",
    "(app_train['DAYS_EMPLOYED']/365).astype(int).plot.hist(title = 'Total Years of Employment - without outliers', bins=bin_values);\n",
    "plt.xlabel('Employment History in Years');"
   ]
  },
  {
   "cell_type": "markdown",
   "metadata": {},
   "source": [
    "Much more likely outcome between 0 and 40+ years of experience."
   ]
  },
  {
   "cell_type": "code",
   "execution_count": 104,
   "metadata": {},
   "outputs": [
    {
     "data": {
      "image/png": "[encoded data removed]",
      "text/plain": [
       "<Figure size 432x288 with 1 Axes>"
      ]
     },
     "metadata": {},
     "output_type": "display_data"
    }
   ],
   "source": [
    "#Need to cauterize the outliers\n",
    "# Add column where there are outliers and fill with \"true\" boolean values for outliers only\n",
    "app_train['DAYS_EMPLOYED_OUTLIER'] = app_train[\"DAYS_EMPLOYED\"] == 365243\n",
    "\n",
    "# Replace the anomalous values with placeholder, numpy NaN value\n",
    "app_train['DAYS_EMPLOYED'].replace({365243: np.nan}, inplace = True)\n",
    "\n",
    "app_train['DAYS_EMPLOYED'].plot.hist(title = 'Days Employment');\n",
    "plt.xlabel('Days Employment');\n"
   ]
  },
  {
   "cell_type": "code",
   "execution_count": 105,
   "metadata": {},
   "outputs": [
    {
     "data": {
      "text/plain": [
       "<matplotlib.axes._subplots.AxesSubplot at 0x1d600fa4048>"
      ]
     },
     "execution_count": 105,
     "metadata": {},
     "output_type": "execute_result"
    },
    {
     "data": {
      "image/png": "[encoded data removed]",
      "text/plain": [
       "<Figure size 432x288 with 1 Axes>"
      ]
     },
     "metadata": {},
     "output_type": "display_data"
    }
   ],
   "source": [
    "#Also show in years for consistency above and to double check that everything worked \n",
    "(app_train['DAYS_EMPLOYED']/365).plot.hist(title='Years Employment')"
   ]
  },
  {
   "cell_type": "code",
   "execution_count": 106,
   "metadata": {},
   "outputs": [],
   "source": [
    "#Cauterize outliers in test data as well\n",
    "app_test['DAYS_EMPLOYED_OUTLIER'] = app_test[\"DAYS_EMPLOYED\"] == 365243\n",
    "app_test[\"DAYS_EMPLOYED\"].replace({365243: np.nan}, inplace = True)"
   ]
  },
  {
   "cell_type": "markdown",
   "metadata": {},
   "source": [
    "## Family size exploration"
   ]
  },
  {
   "cell_type": "markdown",
   "metadata": {},
   "source": [
    "Let's see what family member (CNT_FAM_MEMBERS) and number of children (CNT_CHILDREN) tell us."
   ]
  },
  {
   "cell_type": "code",
   "execution_count": 107,
   "metadata": {},
   "outputs": [
    {
     "data": {
      "text/plain": [
       "count    307509.000000\n",
       "mean          2.152665\n",
       "std           0.910682\n",
       "min           1.000000\n",
       "25%           2.000000\n",
       "50%           2.000000\n",
       "75%           3.000000\n",
       "max          20.000000\n",
       "Name: CNT_FAM_MEMBERS, dtype: float64"
      ]
     },
     "execution_count": 107,
     "metadata": {},
     "output_type": "execute_result"
    }
   ],
   "source": [
    "app_train['CNT_FAM_MEMBERS'].describe()"
   ]
  },
  {
   "cell_type": "code",
   "execution_count": 108,
   "metadata": {},
   "outputs": [
    {
     "data": {
      "image/png": "[encoded data removed]",
      "text/plain": [
       "<Figure size 432x288 with 1 Axes>"
      ]
     },
     "metadata": {},
     "output_type": "display_data"
    }
   ],
   "source": [
    "#Clipped data frame at 5 to remove outliers of 20 family members (very rare)\n",
    "app_train['CNT_FAM_MEMBERS'].clip(0,5).astype(float).plot.hist(title = 'Family members');\n",
    "plt.xlabel('Number of family members');"
   ]
  },
  {
   "cell_type": "code",
   "execution_count": 109,
   "metadata": {},
   "outputs": [
    {
     "data": {
      "text/plain": [
       "count    307511.000000\n",
       "mean          0.417052\n",
       "std           0.722121\n",
       "min           0.000000\n",
       "25%           0.000000\n",
       "50%           0.000000\n",
       "75%           1.000000\n",
       "max          19.000000\n",
       "Name: CNT_CHILDREN, dtype: float64"
      ]
     },
     "execution_count": 109,
     "metadata": {},
     "output_type": "execute_result"
    }
   ],
   "source": [
    "app_train['CNT_CHILDREN'].describe()"
   ]
  },
  {
   "cell_type": "code",
   "execution_count": 110,
   "metadata": {},
   "outputs": [
    {
     "data": {
      "image/png": "[encoded data removed]",
      "text/plain": [
       "<Figure size 432x288 with 1 Axes>"
      ]
     },
     "metadata": {},
     "output_type": "display_data"
    }
   ],
   "source": [
    "#Clipped data frame at 5 to remove outliers of 20 family members (very rare)\n",
    "app_train['CNT_CHILDREN'].clip(0,5).astype(float).plot.hist(title = 'Children');\n",
    "plt.xlabel('Number of children');"
   ]
  },
  {
   "cell_type": "code",
   "execution_count": 111,
   "metadata": {},
   "outputs": [
    {
     "data": {
      "image/png": "[encoded data removed]",
      "text/plain": [
       "<Figure size 720x576 with 1 Axes>"
      ]
     },
     "metadata": {},
     "output_type": "display_data"
    }
   ],
   "source": [
    "# Number of kids related to inability to pay?\n",
    "plt.figure(figsize = (10, 8))\n",
    "\n",
    "# KDE plot of loans that were repaid on time\n",
    "sns.kdeplot(app_train.loc[app_train['TARGET'] == 0, 'CNT_CHILDREN'].clip(0,5), label = 'target == 0')\n",
    "\n",
    "# KDE plot of loans which were not repaid on time\n",
    "sns.kdeplot(app_train.loc[app_train['TARGET'] == 1, 'CNT_CHILDREN'].clip(0,5), label = 'target == 1')\n",
    "\n",
    "# Labeling of plot\n",
    "plt.xlabel('Number of children'); plt.ylabel('Density'); plt.title('Number of children vs. ability to repay');"
   ]
  },
  {
   "cell_type": "code",
   "execution_count": 112,
   "metadata": {},
   "outputs": [
    {
     "data": {
      "image/png": "[encoded data removed]",
      "text/plain": [
       "<Figure size 720x576 with 1 Axes>"
      ]
     },
     "metadata": {},
     "output_type": "display_data"
    }
   ],
   "source": [
    "# Number of kids related to inability to pay?\n",
    "plt.figure(figsize = (10, 8))\n",
    "\n",
    "# KDE plot of loans that were repaid on time\n",
    "sns.kdeplot(app_train.loc[app_train['TARGET'] == 0, 'CNT_FAM_MEMBERS'].clip(0,5), label = 'target == 0')\n",
    "\n",
    "# KDE plot of loans which were not repaid on time\n",
    "sns.kdeplot(app_train.loc[app_train['TARGET'] == 1, 'CNT_FAM_MEMBERS'].clip(0,5), label = 'target == 1')\n",
    "\n",
    "# Labeling of plot\n",
    "plt.xlabel('Family size'); plt.ylabel('Density'); plt.title('Family size vs. ability to repay');"
   ]
  },
  {
   "cell_type": "code",
   "execution_count": 113,
   "metadata": {},
   "outputs": [
    {
     "name": "stdout",
     "output_type": "stream",
     "text": [
      "Percentage of non-payers who are single parents is 5.06%\n",
      "Percentage of non-payers 8.07%\n",
      "Percentage in total population of single parents is 3.99%\n"
     ]
    }
   ],
   "source": [
    "# A slightly deeper dive yet. Determine single parent status through lambda function. \n",
    "# From our one hot encoding - NAME_FAMILY_STATUS_Separated | NAME_FAMILY_STATUS_Single / not married AND more than zero CNT_CHILDREN\n",
    "\n",
    "family_frame = app_train[['TARGET','CNT_FAM_MEMBERS', 'CNT_CHILDREN', 'NAME_FAMILY_STATUS_Separated', 'NAME_FAMILY_STATUS_Single / not married']]\n",
    "family_frame['SINGLE_PARENT'] = family_frame.apply(lambda r: 1 if ((r['NAME_FAMILY_STATUS_Separated'] == 1 or r['NAME_FAMILY_STATUS_Single / not married']==1) and r['CNT_CHILDREN'] >0)  else 0, axis=1)\n",
    "# Percentage of single parents of all folks who couldn't repay\n",
    "Non_Payer = family_frame[family_frame['TARGET'] == 1]\n",
    "Single_Parent_Non_Payer = Non_Payer[Non_Payer['SINGLE_PARENT']==1]\n",
    "\n",
    "print('Percentage of non-payers who are single parents is {:.2%}'.format(len(Single_Parent_Non_Payer.index) / len(Non_Payer.index)))\n",
    "print('Percentage of non-payers {:.2%}'.format(len(Non_Payer.index) / len(app_train.index)))\n",
    "print('Percentage in total population of single parents is {:.2%}'.format(family_frame['SINGLE_PARENT'].sum() / len(app_train.index)))\n"
   ]
  },
  {
   "cell_type": "markdown",
   "metadata": {},
   "source": [
    "Single parents are slightly overrepresented in non-payer population. I'll take this into account when creating my engineered features later."
   ]
  },
  {
   "cell_type": "markdown",
   "metadata": {},
   "source": [
    "## Correlation Analysis\n",
    "As a simple first cut at finding relevant features, let's look at overall correlations to Target variable"
   ]
  },
  {
   "cell_type": "markdown",
   "metadata": {},
   "source": [
    "### Holistic View"
   ]
  },
  {
   "cell_type": "code",
   "execution_count": 114,
   "metadata": {},
   "outputs": [
    {
     "name": "stdout",
     "output_type": "stream",
     "text": [
      "Most Positive Correlations:\n",
      " REG_CITY_NOT_WORK_CITY         0.050994\n",
      "DAYS_ID_PUBLISH                0.051457\n",
      "CODE_GENDER_M                  0.054713\n",
      "DAYS_LAST_PHONE_CHANGE         0.055218\n",
      "NAME_INCOME_TYPE_Working       0.057481\n",
      "REGION_RATING_CLIENT           0.058899\n",
      "REGION_RATING_CLIENT_W_CITY    0.060893\n",
      "DAYS_EMPLOYED                  0.074958\n",
      "DAYS_BIRTH                     0.078239\n",
      "TARGET                         1.000000\n",
      "Name: TARGET, dtype: float64\n",
      "\n",
      "Most Negative Correlations:\n",
      " EXT_SOURCE_3                           -0.178919\n",
      "EXT_SOURCE_2                           -0.160472\n",
      "EXT_SOURCE_1                           -0.155317\n",
      "NAME_EDUCATION_TYPE_Higher education   -0.056593\n",
      "CODE_GENDER_F                          -0.054704\n",
      "NAME_INCOME_TYPE_Pensioner             -0.046209\n",
      "DAYS_EMPLOYED_OUTLIER                  -0.045987\n",
      "ORGANIZATION_TYPE_XNA                  -0.045987\n",
      "FLOORSMAX_AVG                          -0.044003\n",
      "FLOORSMAX_MEDI                         -0.043768\n",
      "Name: TARGET, dtype: float64\n"
     ]
    }
   ],
   "source": [
    "#Looking at correlations to target variable\n",
    "correlations = app_train.corr()['TARGET'].sort_values()\n",
    "\n",
    "#Find and print top 10 positive correlations\n",
    "print('Most Positive Correlations:\\n', correlations.tail(10))\n",
    "#Find and print top 10 negative correlations\n",
    "print('\\nMost Negative Correlations:\\n', correlations.head(10))"
   ]
  },
  {
   "cell_type": "markdown",
   "metadata": {},
   "source": [
    "Interesting initial findings. EXT_SOURCE_n (1-3) is clearly negatively correlated with the \"non-repayment\" event, as is calendar age. \n",
    "This indicates that our external sources (like credit bureaus et al.) are doing a good job at predicting credit worthiness.\n",
    "Also, somewhat intuitively, older people with more higher education (and women) are more likely to repay loans.\n",
    "\n",
    "Positive correlations with inability to repay are \"NAME_EDUCATION_TYPE_Secondary / secondary special\" as the highest completed education level, \"REG_CITY_NOT_WORK_CITY - Flag if client's permanent address does not match work address (1=different, 0=same, at city level)\", \"DAYS_ID_PUBLISH - How many days before the application did client change the identity document with which he applied for the loan\" and \"CODE_GENDER_M - Male applicant\".\n",
    "This intuitively makes sense...applicants whose work permanent address doesn't match their work address and who recently changed their identity document are apparently less stable (and ultimately less able or willing to repay their loan) than others."
   ]
  },
  {
   "cell_type": "markdown",
   "metadata": {},
   "source": [
    "Let's visualize both positive and negative correlations"
   ]
  },
  {
   "cell_type": "code",
   "execution_count": 115,
   "metadata": {},
   "outputs": [
    {
     "data": {
      "image/png": "[encoded data removed]",
      "text/plain": [
       "<Figure size 576x432 with 2 Axes>"
      ]
     },
     "metadata": {},
     "output_type": "display_data"
    }
   ],
   "source": [
    "ext_data_pos = app_train[['TARGET', 'NAME_EDUCATION_TYPE_Secondary / secondary special', 'REG_CITY_NOT_WORK_CITY', 'DAYS_ID_PUBLISH', 'CODE_GENDER_M', 'DAYS_LAST_PHONE_CHANGE']]\n",
    "ext_data_pos_corrs = ext_data_pos.corr()\n",
    "\n",
    "plt.figure(figsize = (8, 6))\n",
    "\n",
    "# Heatmap of correlations\n",
    "sns.heatmap(ext_data_pos_corrs, cmap = plt.cm.RdYlBu_r, vmin = -0.25, annot = True, vmax = 0.6)\n",
    "plt.title('Positive Correlation Heatmap');"
   ]
  },
  {
   "cell_type": "code",
   "execution_count": 116,
   "metadata": {},
   "outputs": [
    {
     "data": {
      "image/png": "[encoded data removed]",
      "text/plain": [
       "<Figure size 576x432 with 2 Axes>"
      ]
     },
     "metadata": {},
     "output_type": "display_data"
    }
   ],
   "source": [
    "ext_data_neg = app_train[['TARGET', 'EXT_SOURCE_3', 'EXT_SOURCE_2', 'EXT_SOURCE_1', 'DAYS_BIRTH', 'NAME_EDUCATION_TYPE_Higher education']]\n",
    "ext_data_neg_corrs = ext_data_neg.corr()\n",
    "\n",
    "plt.figure(figsize = (8, 6))\n",
    "\n",
    "# Heatmap of correlations\n",
    "sns.heatmap(ext_data_neg_corrs, cmap = plt.cm.RdYlBu_r, vmin = -0.25, annot = True, vmax = 0.6)\n",
    "plt.title('Negative Correlation Heatmap');"
   ]
  },
  {
   "cell_type": "markdown",
   "metadata": {},
   "source": [
    "### Age deep dive\n",
    "Let's dive deeper into the age category, which seems to be a strong predictor in addition to external sources for our ability to repay."
   ]
  },
  {
   "cell_type": "code",
   "execution_count": 117,
   "metadata": {},
   "outputs": [],
   "source": [
    "# Flip days since birth into absolute values for easier processing later\n",
    "app_train['DAYS_BIRTH'] = abs(app_train['DAYS_BIRTH'])\n",
    "\n",
    "#Looking at failure to pay back by age group\n",
    "age_data = app_train[['TARGET', 'DAYS_BIRTH']]\n",
    "age_data['YEARS_BIRTH'] = age_data['DAYS_BIRTH'] / 365\n",
    "\n",
    "# Bin the age data\n",
    "age_data['YEARS_BINNED'] = pd.cut(age_data['YEARS_BIRTH'], bins = np.linspace(20, 70, num = 11))\n"
   ]
  },
  {
   "cell_type": "code",
   "execution_count": 118,
   "metadata": {},
   "outputs": [
    {
     "data": {
      "text/html": [
       "<div>\n",
       "<style scoped>\n",
       "    .dataframe tbody tr th:only-of-type {\n",
       "        vertical-align: middle;\n",
       "    }\n",
       "\n",
       "    .dataframe tbody tr th {\n",
       "        vertical-align: top;\n",
       "    }\n",
       "\n",
       "    .dataframe thead th {\n",
       "        text-align: right;\n",
       "    }\n",
       "</style>\n",
       "<table border=\"1\" class=\"dataframe\">\n",
       "  <thead>\n",
       "    <tr style=\"text-align: right;\">\n",
       "      <th></th>\n",
       "      <th>TARGET</th>\n",
       "      <th>DAYS_BIRTH</th>\n",
       "      <th>YEARS_BIRTH</th>\n",
       "    </tr>\n",
       "    <tr>\n",
       "      <th>YEARS_BINNED</th>\n",
       "      <th></th>\n",
       "      <th></th>\n",
       "      <th></th>\n",
       "    </tr>\n",
       "  </thead>\n",
       "  <tbody>\n",
       "    <tr>\n",
       "      <th>(20.0, 25.0]</th>\n",
       "      <td>0.123036</td>\n",
       "      <td>8532.795625</td>\n",
       "      <td>23.377522</td>\n",
       "    </tr>\n",
       "    <tr>\n",
       "      <th>(25.0, 30.0]</th>\n",
       "      <td>0.111436</td>\n",
       "      <td>10155.219250</td>\n",
       "      <td>27.822518</td>\n",
       "    </tr>\n",
       "    <tr>\n",
       "      <th>(30.0, 35.0]</th>\n",
       "      <td>0.102814</td>\n",
       "      <td>11854.848377</td>\n",
       "      <td>32.479037</td>\n",
       "    </tr>\n",
       "    <tr>\n",
       "      <th>(35.0, 40.0]</th>\n",
       "      <td>0.089414</td>\n",
       "      <td>13707.908253</td>\n",
       "      <td>37.555913</td>\n",
       "    </tr>\n",
       "    <tr>\n",
       "      <th>(40.0, 45.0]</th>\n",
       "      <td>0.078491</td>\n",
       "      <td>15497.661233</td>\n",
       "      <td>42.459346</td>\n",
       "    </tr>\n",
       "    <tr>\n",
       "      <th>(45.0, 50.0]</th>\n",
       "      <td>0.074171</td>\n",
       "      <td>17323.900441</td>\n",
       "      <td>47.462741</td>\n",
       "    </tr>\n",
       "    <tr>\n",
       "      <th>(50.0, 55.0]</th>\n",
       "      <td>0.066968</td>\n",
       "      <td>19196.494791</td>\n",
       "      <td>52.593136</td>\n",
       "    </tr>\n",
       "    <tr>\n",
       "      <th>(55.0, 60.0]</th>\n",
       "      <td>0.055314</td>\n",
       "      <td>20984.262742</td>\n",
       "      <td>57.491131</td>\n",
       "    </tr>\n",
       "    <tr>\n",
       "      <th>(60.0, 65.0]</th>\n",
       "      <td>0.052737</td>\n",
       "      <td>22780.547460</td>\n",
       "      <td>62.412459</td>\n",
       "    </tr>\n",
       "    <tr>\n",
       "      <th>(65.0, 70.0]</th>\n",
       "      <td>0.037270</td>\n",
       "      <td>24292.614340</td>\n",
       "      <td>66.555108</td>\n",
       "    </tr>\n",
       "  </tbody>\n",
       "</table>\n",
       "</div>"
      ],
      "text/plain": [
       "                TARGET    DAYS_BIRTH  YEARS_BIRTH\n",
       "YEARS_BINNED                                     \n",
       "(20.0, 25.0]  0.123036   8532.795625    23.377522\n",
       "(25.0, 30.0]  0.111436  10155.219250    27.822518\n",
       "(30.0, 35.0]  0.102814  11854.848377    32.479037\n",
       "(35.0, 40.0]  0.089414  13707.908253    37.555913\n",
       "(40.0, 45.0]  0.078491  15497.661233    42.459346\n",
       "(45.0, 50.0]  0.074171  17323.900441    47.462741\n",
       "(50.0, 55.0]  0.066968  19196.494791    52.593136\n",
       "(55.0, 60.0]  0.055314  20984.262742    57.491131\n",
       "(60.0, 65.0]  0.052737  22780.547460    62.412459\n",
       "(65.0, 70.0]  0.037270  24292.614340    66.555108"
      ]
     },
     "execution_count": 118,
     "metadata": {},
     "output_type": "execute_result"
    }
   ],
   "source": [
    "# Group all individuals into bins and calculate mean per bin\n",
    "age_groups  = age_data.groupby('YEARS_BINNED').mean()\n",
    "age_groups"
   ]
  },
  {
   "cell_type": "code",
   "execution_count": 119,
   "metadata": {},
   "outputs": [
    {
     "data": {
      "image/png": "[encoded data removed]",
      "text/plain": [
       "<Figure size 432x288 with 1 Axes>"
      ]
     },
     "metadata": {},
     "output_type": "display_data"
    }
   ],
   "source": [
    "#Visualize the above\n",
    "plt.bar(age_groups.index.astype(str), 100 * age_groups['TARGET'])\n",
    "\n",
    "# Plot labeling\n",
    "plt.xticks(rotation = 75); plt.xlabel('Age Bracket (years)'); plt.ylabel('% failed to repay (%)')\n",
    "plt.title('Failure to Repay by Age Group');"
   ]
  },
  {
   "cell_type": "markdown",
   "metadata": {},
   "source": [
    "No big shock there. Younger people have a harder time repaying loans than older people. "
   ]
  },
  {
   "cell_type": "markdown",
   "metadata": {},
   "source": [
    "# Machine Learning Model Design"
   ]
  },
  {
   "cell_type": "markdown",
   "metadata": {},
   "source": [
    "Given the Kaggle competition's format of requiring submission of predictions on an unlableled data set (application_test.csv), I wanted to experiment locally first to select an approppriate model, experiment with additional feature engineering, etc. and then only submit select results that I was reasonably confident in to Kaggle."
   ]
  },
  {
   "cell_type": "markdown",
   "metadata": {},
   "source": [
    "## Baseline\n",
    "I'll start with an out of the box Gradient Boosting Machine to establish a baseline on a subset of the data"
   ]
  },
  {
   "cell_type": "code",
   "execution_count": 120,
   "metadata": {},
   "outputs": [],
   "source": [
    "# Import LightGBM \n",
    "import lightgbm as lgb\n",
    "\n",
    "# Data splitting import\n",
    "from sklearn.model_selection import train_test_split\n",
    "\n",
    "N_FOLDS = 10\n",
    "# Master switch to set number of evals.\n",
    "# I experimented with 5, 20, and 100. Performance did not reliably increase with additional evals, as is the nature of random \n",
    "# experiments. While computationally VERY expensive, the 100 evals did not improve my score.\n",
    "# Setting to tiny number for end-to-end run-throughs of the entire notebook.\n",
    "MAX_EVALS = 40"
   ]
  },
  {
   "cell_type": "code",
   "execution_count": 121,
   "metadata": {},
   "outputs": [
    {
     "name": "stdout",
     "output_type": "stream",
     "text": [
      "Subset data shape:  (20000, 244)\n"
     ]
    },
    {
     "data": {
      "text/html": [
       "<div>\n",
       "<style scoped>\n",
       "    .dataframe tbody tr th:only-of-type {\n",
       "        vertical-align: middle;\n",
       "    }\n",
       "\n",
       "    .dataframe tbody tr th {\n",
       "        vertical-align: top;\n",
       "    }\n",
       "\n",
       "    .dataframe thead th {\n",
       "        text-align: right;\n",
       "    }\n",
       "</style>\n",
       "<table border=\"1\" class=\"dataframe\">\n",
       "  <thead>\n",
       "    <tr style=\"text-align: right;\">\n",
       "      <th></th>\n",
       "      <th>SK_ID_CURR</th>\n",
       "      <th>CNT_CHILDREN</th>\n",
       "      <th>AMT_INCOME_TOTAL</th>\n",
       "      <th>AMT_CREDIT</th>\n",
       "      <th>AMT_ANNUITY</th>\n",
       "      <th>AMT_GOODS_PRICE</th>\n",
       "      <th>REGION_POPULATION_RELATIVE</th>\n",
       "      <th>DAYS_BIRTH</th>\n",
       "      <th>DAYS_EMPLOYED</th>\n",
       "      <th>DAYS_REGISTRATION</th>\n",
       "      <th>...</th>\n",
       "      <th>WALLSMATERIAL_MODE_Mixed</th>\n",
       "      <th>WALLSMATERIAL_MODE_Monolithic</th>\n",
       "      <th>WALLSMATERIAL_MODE_Others</th>\n",
       "      <th>WALLSMATERIAL_MODE_Panel</th>\n",
       "      <th>WALLSMATERIAL_MODE_Stone, brick</th>\n",
       "      <th>WALLSMATERIAL_MODE_Wooden</th>\n",
       "      <th>EMERGENCYSTATE_MODE_No</th>\n",
       "      <th>EMERGENCYSTATE_MODE_Yes</th>\n",
       "      <th>TARGET</th>\n",
       "      <th>DAYS_EMPLOYED_OUTLIER</th>\n",
       "    </tr>\n",
       "  </thead>\n",
       "  <tbody>\n",
       "    <tr>\n",
       "      <th>245895</th>\n",
       "      <td>384575</td>\n",
       "      <td>2</td>\n",
       "      <td>207000.0</td>\n",
       "      <td>465457.5</td>\n",
       "      <td>52641.0</td>\n",
       "      <td>418500.0</td>\n",
       "      <td>0.009630</td>\n",
       "      <td>13297</td>\n",
       "      <td>-762.0</td>\n",
       "      <td>-637.0</td>\n",
       "      <td>...</td>\n",
       "      <td>0</td>\n",
       "      <td>0</td>\n",
       "      <td>0</td>\n",
       "      <td>0</td>\n",
       "      <td>0</td>\n",
       "      <td>0</td>\n",
       "      <td>0</td>\n",
       "      <td>0</td>\n",
       "      <td>0</td>\n",
       "      <td>False</td>\n",
       "    </tr>\n",
       "    <tr>\n",
       "      <th>98194</th>\n",
       "      <td>214010</td>\n",
       "      <td>0</td>\n",
       "      <td>247500.0</td>\n",
       "      <td>1281712.5</td>\n",
       "      <td>48946.5</td>\n",
       "      <td>1179000.0</td>\n",
       "      <td>0.006852</td>\n",
       "      <td>14778</td>\n",
       "      <td>-1141.0</td>\n",
       "      <td>-1610.0</td>\n",
       "      <td>...</td>\n",
       "      <td>0</td>\n",
       "      <td>1</td>\n",
       "      <td>0</td>\n",
       "      <td>0</td>\n",
       "      <td>0</td>\n",
       "      <td>0</td>\n",
       "      <td>1</td>\n",
       "      <td>0</td>\n",
       "      <td>0</td>\n",
       "      <td>False</td>\n",
       "    </tr>\n",
       "    <tr>\n",
       "      <th>36463</th>\n",
       "      <td>142232</td>\n",
       "      <td>0</td>\n",
       "      <td>202500.0</td>\n",
       "      <td>495000.0</td>\n",
       "      <td>39109.5</td>\n",
       "      <td>495000.0</td>\n",
       "      <td>0.035792</td>\n",
       "      <td>17907</td>\n",
       "      <td>-639.0</td>\n",
       "      <td>-2507.0</td>\n",
       "      <td>...</td>\n",
       "      <td>0</td>\n",
       "      <td>0</td>\n",
       "      <td>0</td>\n",
       "      <td>0</td>\n",
       "      <td>0</td>\n",
       "      <td>0</td>\n",
       "      <td>0</td>\n",
       "      <td>0</td>\n",
       "      <td>0</td>\n",
       "      <td>False</td>\n",
       "    </tr>\n",
       "    <tr>\n",
       "      <th>249923</th>\n",
       "      <td>389171</td>\n",
       "      <td>0</td>\n",
       "      <td>247500.0</td>\n",
       "      <td>254700.0</td>\n",
       "      <td>24939.0</td>\n",
       "      <td>225000.0</td>\n",
       "      <td>0.046220</td>\n",
       "      <td>19626</td>\n",
       "      <td>-6982.0</td>\n",
       "      <td>-11167.0</td>\n",
       "      <td>...</td>\n",
       "      <td>0</td>\n",
       "      <td>0</td>\n",
       "      <td>0</td>\n",
       "      <td>1</td>\n",
       "      <td>0</td>\n",
       "      <td>0</td>\n",
       "      <td>1</td>\n",
       "      <td>0</td>\n",
       "      <td>0</td>\n",
       "      <td>False</td>\n",
       "    </tr>\n",
       "    <tr>\n",
       "      <th>158389</th>\n",
       "      <td>283617</td>\n",
       "      <td>0</td>\n",
       "      <td>112500.0</td>\n",
       "      <td>308133.0</td>\n",
       "      <td>15862.5</td>\n",
       "      <td>234000.0</td>\n",
       "      <td>0.018850</td>\n",
       "      <td>20327</td>\n",
       "      <td>-1105.0</td>\n",
       "      <td>-7299.0</td>\n",
       "      <td>...</td>\n",
       "      <td>0</td>\n",
       "      <td>0</td>\n",
       "      <td>0</td>\n",
       "      <td>0</td>\n",
       "      <td>1</td>\n",
       "      <td>0</td>\n",
       "      <td>1</td>\n",
       "      <td>0</td>\n",
       "      <td>0</td>\n",
       "      <td>False</td>\n",
       "    </tr>\n",
       "  </tbody>\n",
       "</table>\n",
       "<p>5 rows × 244 columns</p>\n",
       "</div>"
      ],
      "text/plain": [
       "        SK_ID_CURR  CNT_CHILDREN  AMT_INCOME_TOTAL  AMT_CREDIT  AMT_ANNUITY  \\\n",
       "245895      384575             2          207000.0    465457.5      52641.0   \n",
       "98194       214010             0          247500.0   1281712.5      48946.5   \n",
       "36463       142232             0          202500.0    495000.0      39109.5   \n",
       "249923      389171             0          247500.0    254700.0      24939.0   \n",
       "158389      283617             0          112500.0    308133.0      15862.5   \n",
       "\n",
       "        AMT_GOODS_PRICE  REGION_POPULATION_RELATIVE  DAYS_BIRTH  \\\n",
       "245895         418500.0                    0.009630       13297   \n",
       "98194         1179000.0                    0.006852       14778   \n",
       "36463          495000.0                    0.035792       17907   \n",
       "249923         225000.0                    0.046220       19626   \n",
       "158389         234000.0                    0.018850       20327   \n",
       "\n",
       "        DAYS_EMPLOYED  DAYS_REGISTRATION          ...            \\\n",
       "245895         -762.0             -637.0          ...             \n",
       "98194         -1141.0            -1610.0          ...             \n",
       "36463          -639.0            -2507.0          ...             \n",
       "249923        -6982.0           -11167.0          ...             \n",
       "158389        -1105.0            -7299.0          ...             \n",
       "\n",
       "        WALLSMATERIAL_MODE_Mixed  WALLSMATERIAL_MODE_Monolithic  \\\n",
       "245895                         0                              0   \n",
       "98194                          0                              1   \n",
       "36463                          0                              0   \n",
       "249923                         0                              0   \n",
       "158389                         0                              0   \n",
       "\n",
       "        WALLSMATERIAL_MODE_Others  WALLSMATERIAL_MODE_Panel  \\\n",
       "245895                          0                         0   \n",
       "98194                           0                         0   \n",
       "36463                           0                         0   \n",
       "249923                          0                         1   \n",
       "158389                          0                         0   \n",
       "\n",
       "        WALLSMATERIAL_MODE_Stone, brick  WALLSMATERIAL_MODE_Wooden  \\\n",
       "245895                                0                          0   \n",
       "98194                                 0                          0   \n",
       "36463                                 0                          0   \n",
       "249923                                0                          0   \n",
       "158389                                1                          0   \n",
       "\n",
       "        EMERGENCYSTATE_MODE_No  EMERGENCYSTATE_MODE_Yes  TARGET  \\\n",
       "245895                       0                        0       0   \n",
       "98194                        1                        0       0   \n",
       "36463                        0                        0       0   \n",
       "249923                       1                        0       0   \n",
       "158389                       1                        0       0   \n",
       "\n",
       "        DAYS_EMPLOYED_OUTLIER  \n",
       "245895                  False  \n",
       "98194                   False  \n",
       "36463                   False  \n",
       "249923                  False  \n",
       "158389                  False  \n",
       "\n",
       "[5 rows x 244 columns]"
      ]
     },
     "execution_count": 121,
     "metadata": {},
     "output_type": "execute_result"
    }
   ],
   "source": [
    "# Sample 20000 rows (15000 for training, 5000 for testing)\n",
    "subset = app_train.sample(n = 20000, random_state = 42)\n",
    "print('Subset data shape: ', subset.shape)\n",
    "subset.head()"
   ]
  },
  {
   "cell_type": "code",
   "execution_count": 122,
   "metadata": {},
   "outputs": [
    {
     "name": "stdout",
     "output_type": "stream",
     "text": [
      "Training features data shape:  (15000, 242)\n",
      "Testing features data shape: (5000, 242)\n"
     ]
    }
   ],
   "source": [
    "# Split into features and labels, split into train and test\n",
    "# Extract the labels\n",
    "labels = np.array(subset['TARGET'].astype(np.int32)).reshape((-1, ))\n",
    "features = subset.drop(columns = ['TARGET', 'SK_ID_CURR'])\n",
    "\n",
    "# Split into training and testing data\n",
    "train_features, test_features, train_labels, test_labels = train_test_split(features, labels, test_size = 5000, random_state = 50)\n",
    "print('Training features data shape: ', train_features.shape)\n",
    "print('Testing features data shape:', test_features.shape)"
   ]
  },
  {
   "cell_type": "markdown",
   "metadata": {},
   "source": [
    "Now onto actually experimenting with the LGBM default model, using KFold Cross Validation to get an initial stab at a ROC AUC score"
   ]
  },
  {
   "cell_type": "code",
   "execution_count": 123,
   "metadata": {},
   "outputs": [],
   "source": [
    "# Use LGB functions to create a dataset\n",
    "train_set = lgb.Dataset(data = train_features, label = train_labels)\n",
    "test_set = lgb.Dataset(data = test_features, label = test_labels)\n",
    "\n",
    "# Get default hyperparameters\n",
    "model = lgb.LGBMClassifier()\n",
    "default_params = model.get_params()\n",
    "\n",
    "# Remove the number of estimators because we set this to 10000 in the cv call\n",
    "del default_params['n_estimators']\n",
    "\n",
    "# Cross validation with early stopping\n",
    "cv_results = lgb.cv(default_params, train_set, num_boost_round = 10000, early_stopping_rounds = 100, \n",
    "                    metrics = 'auc', nfold = N_FOLDS, seed = 42)"
   ]
  },
  {
   "cell_type": "code",
   "execution_count": 124,
   "metadata": {},
   "outputs": [
    {
     "data": {
      "image/png": "[encoded data removed]",
      "text/plain": [
       "<Figure size 432x288 with 1 Axes>"
      ]
     },
     "metadata": {},
     "output_type": "display_data"
    }
   ],
   "source": [
    "# Just a quick peek inside the cv_results dictionary\n",
    "plt.plot(cv_results['auc-mean']); plt.xlabel('Number of estimators'); plt.ylabel('ROC AUC')\n",
    "plt.title('KFold Validation Results');"
   ]
  },
  {
   "cell_type": "code",
   "execution_count": 125,
   "metadata": {},
   "outputs": [
    {
     "name": "stdout",
     "output_type": "stream",
     "text": [
      "The maximum validation ROC AUC was: 0.73091 with a standard deviation of 0.02271.\n",
      "The optimal number of boosting rounds (estimators) was 38.\n"
     ]
    }
   ],
   "source": [
    "#Print results\n",
    "print('The maximum validation ROC AUC was: {:.5f} with a standard deviation of {:.5f}.'.format(cv_results['auc-mean'][-1], cv_results['auc-stdv'][-1]))\n",
    "print('The optimal number of boosting rounds (estimators) was {}.'.format(len(cv_results['auc-mean'])))"
   ]
  },
  {
   "cell_type": "markdown",
   "metadata": {},
   "source": [
    "KFold CV ROC AUC score is 0.73091 with 10 folds. Now onto the test set to see how we do there."
   ]
  },
  {
   "cell_type": "code",
   "execution_count": 126,
   "metadata": {},
   "outputs": [
    {
     "name": "stdout",
     "output_type": "stream",
     "text": [
      "The baseline model scores 0.73781 ROC AUC on the test set.\n"
     ]
    }
   ],
   "source": [
    "from sklearn.metrics import roc_auc_score\n",
    "# Optimal number of esimators found in cross validation above\n",
    "model.n_estimators = len(cv_results['auc-mean'])\n",
    "\n",
    "# Train and make predicions with model\n",
    "model.fit(train_features, train_labels)\n",
    "preds = model.predict_proba(test_features)[:, 1]\n",
    "baseline_auc = roc_auc_score(test_labels, preds)\n",
    "\n",
    "print('The baseline model scores {:.5f} ROC AUC on the test set.'.format(baseline_auc))"
   ]
  },
  {
   "cell_type": "markdown",
   "metadata": {},
   "source": [
    "Good portability from KFold to test set. "
   ]
  },
  {
   "cell_type": "markdown",
   "metadata": {},
   "source": [
    "Now let's run this on the full (blind) test set from the Kaggle competition to get our raw, initial submission for an \"official score\""
   ]
  },
  {
   "cell_type": "code",
   "execution_count": 127,
   "metadata": {},
   "outputs": [],
   "source": [
    "#Initial test\n",
    "initial_test_ids = app_test['SK_ID_CURR']\n",
    "initial_test = app_test.drop(columns = ['SK_ID_CURR'])\n",
    "\n",
    "#Use existing model from above to create predictions for our test set\n",
    "preds = model.predict_proba(initial_test)[:, 1]\n",
    "\n",
    "# Generate submission file in approved format\n",
    "submission = pd.DataFrame({'SK_ID_CURR': initial_test_ids, 'TARGET': preds})\n",
    "submission.to_csv('submission_untuned_LGBM.csv', index = False)"
   ]
  },
  {
   "attachments": {
    "untuned_LGBM_submission_score.PNG": {
     "image/png": "[encoded data removed]"
    }
   },
   "cell_type": "markdown",
   "metadata": {},
   "source": [
    "And here is the official Kaggle result for the totally untuned out of the box LGBM - a score of 0.68025\n",
    "![untuned_LGBM_submission_score.PNG](attachment:untuned_LGBM_submission_score.PNG)"
   ]
  },
  {
   "cell_type": "markdown",
   "metadata": {},
   "source": [
    "As we can see our actual full test set score is quite a bit lower than the sub-sampled test set and KFold validated model derived purely from the (labeled) training data.\n",
    "Now on to tuning the hyperparameters to improve the performance of our model."
   ]
  },
  {
   "cell_type": "markdown",
   "metadata": {},
   "source": [
    "### Feature Engineering"
   ]
  },
  {
   "cell_type": "markdown",
   "metadata": {},
   "source": [
    "To further improve the score, I'll try to add engineered features to the data set. \n",
    "These engineered features will be derived from the existing data using common sense hypotheses. Also using the single parent flag from data exploration chapter."
   ]
  },
  {
   "cell_type": "code",
   "execution_count": 128,
   "metadata": {},
   "outputs": [],
   "source": [
    "app_train_domain = app_train.copy()\n",
    "app_test_domain = app_test.copy()"
   ]
  },
  {
   "cell_type": "markdown",
   "metadata": {},
   "source": [
    "#### Domain expertise features"
   ]
  },
  {
   "cell_type": "code",
   "execution_count": 129,
   "metadata": {},
   "outputs": [],
   "source": [
    "# Little helper function to add five feature columns onto my data frame\n",
    "def feature_append(dataframe_in):\n",
    "    dataframe_in['CREDIT_INCOME_PERCENT'] = dataframe_in['AMT_CREDIT'] / dataframe_in['AMT_INCOME_TOTAL']\n",
    "    dataframe_in['CREDIT_TERM'] = dataframe_in['AMT_ANNUITY'] / dataframe_in['AMT_CREDIT']\n",
    "    dataframe_in['DAYS_EMPLOYED_PERCENT'] = dataframe_in['DAYS_EMPLOYED'] / dataframe_in['DAYS_BIRTH']\n",
    "    dataframe_in['INCOME_VS_FAMILY_SIZE'] = dataframe_in['AMT_INCOME_TOTAL'] / dataframe_in['CNT_FAM_MEMBERS']\n",
    "    dataframe_in['INCOME_VS_CHILDREN'] = dataframe_in['AMT_INCOME_TOTAL'] / dataframe_in['CNT_CHILDREN']\n",
    "    dataframe_in['SINGLE_PARENT'] = dataframe_in.apply(lambda r: 1 if ((r['NAME_FAMILY_STATUS_Separated'] == 1 or r['NAME_FAMILY_STATUS_Single / not married']==1) and r['CNT_CHILDREN'] >0)  else 0, axis=1)\n",
    "    return dataframe_in\n"
   ]
  },
  {
   "cell_type": "code",
   "execution_count": 130,
   "metadata": {},
   "outputs": [
    {
     "name": "stdout",
     "output_type": "stream",
     "text": [
      "(307511, 250)\n",
      "(48744, 249)\n"
     ]
    }
   ],
   "source": [
    "app_train_domain = feature_append(app_train_domain)\n",
    "app_test_domain = feature_append(app_test_domain)\n",
    "print(app_train_domain.shape)\n",
    "print(app_test_domain.shape)"
   ]
  },
  {
   "cell_type": "code",
   "execution_count": 131,
   "metadata": {},
   "outputs": [
    {
     "name": "stdout",
     "output_type": "stream",
     "text": [
      "Most Positive Correlations:\n",
      " REG_CITY_NOT_WORK_CITY         0.050994\n",
      "DAYS_ID_PUBLISH                0.051457\n",
      "CODE_GENDER_M                  0.054713\n",
      "DAYS_LAST_PHONE_CHANGE         0.055218\n",
      "NAME_INCOME_TYPE_Working       0.057481\n",
      "REGION_RATING_CLIENT           0.058899\n",
      "REGION_RATING_CLIENT_W_CITY    0.060893\n",
      "DAYS_EMPLOYED_PERCENT          0.067955\n",
      "DAYS_EMPLOYED                  0.074958\n",
      "TARGET                         1.000000\n",
      "Name: TARGET, dtype: float64\n",
      "\n",
      "Most Negative Correlations:\n",
      " EXT_SOURCE_3                           -0.178919\n",
      "EXT_SOURCE_2                           -0.160472\n",
      "EXT_SOURCE_1                           -0.155317\n",
      "DAYS_BIRTH                             -0.078239\n",
      "NAME_EDUCATION_TYPE_Higher education   -0.056593\n",
      "CODE_GENDER_F                          -0.054704\n",
      "NAME_INCOME_TYPE_Pensioner             -0.046209\n",
      "DAYS_EMPLOYED_OUTLIER                  -0.045987\n",
      "ORGANIZATION_TYPE_XNA                  -0.045987\n",
      "FLOORSMAX_AVG                          -0.044003\n",
      "Name: TARGET, dtype: float64\n"
     ]
    }
   ],
   "source": [
    "# Quick peek to see if anything has changed in correlation matrix as a naive way to evaluate impact of new features\n",
    "correlations = app_train_domain.corr()['TARGET'].sort_values()\n",
    "\n",
    "#Find and print top 10 positive correlations\n",
    "print('Most Positive Correlations:\\n', correlations.tail(10))\n",
    "#Find and print top 10 negative correlations\n",
    "print('\\nMost Negative Correlations:\\n', correlations.head(10))"
   ]
  },
  {
   "cell_type": "markdown",
   "metadata": {},
   "source": [
    "Not many made it into the top / bottom 10 by pure correlation. Oh well. Let's check more deeply using KFold and random parameter search."
   ]
  },
  {
   "cell_type": "code",
   "execution_count": 132,
   "metadata": {},
   "outputs": [
    {
     "name": "stdout",
     "output_type": "stream",
     "text": [
      "Subset data shape:  (20000, 250)\n"
     ]
    },
    {
     "data": {
      "text/html": [
       "<div>\n",
       "<style scoped>\n",
       "    .dataframe tbody tr th:only-of-type {\n",
       "        vertical-align: middle;\n",
       "    }\n",
       "\n",
       "    .dataframe tbody tr th {\n",
       "        vertical-align: top;\n",
       "    }\n",
       "\n",
       "    .dataframe thead th {\n",
       "        text-align: right;\n",
       "    }\n",
       "</style>\n",
       "<table border=\"1\" class=\"dataframe\">\n",
       "  <thead>\n",
       "    <tr style=\"text-align: right;\">\n",
       "      <th></th>\n",
       "      <th>SK_ID_CURR</th>\n",
       "      <th>CNT_CHILDREN</th>\n",
       "      <th>AMT_INCOME_TOTAL</th>\n",
       "      <th>AMT_CREDIT</th>\n",
       "      <th>AMT_ANNUITY</th>\n",
       "      <th>AMT_GOODS_PRICE</th>\n",
       "      <th>REGION_POPULATION_RELATIVE</th>\n",
       "      <th>DAYS_BIRTH</th>\n",
       "      <th>DAYS_EMPLOYED</th>\n",
       "      <th>DAYS_REGISTRATION</th>\n",
       "      <th>...</th>\n",
       "      <th>EMERGENCYSTATE_MODE_No</th>\n",
       "      <th>EMERGENCYSTATE_MODE_Yes</th>\n",
       "      <th>TARGET</th>\n",
       "      <th>DAYS_EMPLOYED_OUTLIER</th>\n",
       "      <th>CREDIT_INCOME_PERCENT</th>\n",
       "      <th>CREDIT_TERM</th>\n",
       "      <th>DAYS_EMPLOYED_PERCENT</th>\n",
       "      <th>INCOME_VS_FAMILY_SIZE</th>\n",
       "      <th>INCOME_VS_CHILDREN</th>\n",
       "      <th>SINGLE_PARENT</th>\n",
       "    </tr>\n",
       "  </thead>\n",
       "  <tbody>\n",
       "    <tr>\n",
       "      <th>245895</th>\n",
       "      <td>384575</td>\n",
       "      <td>2</td>\n",
       "      <td>207000.0</td>\n",
       "      <td>465457.5</td>\n",
       "      <td>52641.0</td>\n",
       "      <td>418500.0</td>\n",
       "      <td>0.009630</td>\n",
       "      <td>13297</td>\n",
       "      <td>-762.0</td>\n",
       "      <td>-637.0</td>\n",
       "      <td>...</td>\n",
       "      <td>0</td>\n",
       "      <td>0</td>\n",
       "      <td>0</td>\n",
       "      <td>False</td>\n",
       "      <td>2.248587</td>\n",
       "      <td>0.113095</td>\n",
       "      <td>-0.057306</td>\n",
       "      <td>51750.0</td>\n",
       "      <td>1.035000e+05</td>\n",
       "      <td>0</td>\n",
       "    </tr>\n",
       "    <tr>\n",
       "      <th>98194</th>\n",
       "      <td>214010</td>\n",
       "      <td>0</td>\n",
       "      <td>247500.0</td>\n",
       "      <td>1281712.5</td>\n",
       "      <td>48946.5</td>\n",
       "      <td>1179000.0</td>\n",
       "      <td>0.006852</td>\n",
       "      <td>14778</td>\n",
       "      <td>-1141.0</td>\n",
       "      <td>-1610.0</td>\n",
       "      <td>...</td>\n",
       "      <td>1</td>\n",
       "      <td>0</td>\n",
       "      <td>0</td>\n",
       "      <td>False</td>\n",
       "      <td>5.178636</td>\n",
       "      <td>0.038188</td>\n",
       "      <td>-0.077209</td>\n",
       "      <td>247500.0</td>\n",
       "      <td>inf</td>\n",
       "      <td>0</td>\n",
       "    </tr>\n",
       "    <tr>\n",
       "      <th>36463</th>\n",
       "      <td>142232</td>\n",
       "      <td>0</td>\n",
       "      <td>202500.0</td>\n",
       "      <td>495000.0</td>\n",
       "      <td>39109.5</td>\n",
       "      <td>495000.0</td>\n",
       "      <td>0.035792</td>\n",
       "      <td>17907</td>\n",
       "      <td>-639.0</td>\n",
       "      <td>-2507.0</td>\n",
       "      <td>...</td>\n",
       "      <td>0</td>\n",
       "      <td>0</td>\n",
       "      <td>0</td>\n",
       "      <td>False</td>\n",
       "      <td>2.444444</td>\n",
       "      <td>0.079009</td>\n",
       "      <td>-0.035684</td>\n",
       "      <td>101250.0</td>\n",
       "      <td>inf</td>\n",
       "      <td>0</td>\n",
       "    </tr>\n",
       "    <tr>\n",
       "      <th>249923</th>\n",
       "      <td>389171</td>\n",
       "      <td>0</td>\n",
       "      <td>247500.0</td>\n",
       "      <td>254700.0</td>\n",
       "      <td>24939.0</td>\n",
       "      <td>225000.0</td>\n",
       "      <td>0.046220</td>\n",
       "      <td>19626</td>\n",
       "      <td>-6982.0</td>\n",
       "      <td>-11167.0</td>\n",
       "      <td>...</td>\n",
       "      <td>1</td>\n",
       "      <td>0</td>\n",
       "      <td>0</td>\n",
       "      <td>False</td>\n",
       "      <td>1.029091</td>\n",
       "      <td>0.097915</td>\n",
       "      <td>-0.355753</td>\n",
       "      <td>247500.0</td>\n",
       "      <td>inf</td>\n",
       "      <td>0</td>\n",
       "    </tr>\n",
       "    <tr>\n",
       "      <th>158389</th>\n",
       "      <td>283617</td>\n",
       "      <td>0</td>\n",
       "      <td>112500.0</td>\n",
       "      <td>308133.0</td>\n",
       "      <td>15862.5</td>\n",
       "      <td>234000.0</td>\n",
       "      <td>0.018850</td>\n",
       "      <td>20327</td>\n",
       "      <td>-1105.0</td>\n",
       "      <td>-7299.0</td>\n",
       "      <td>...</td>\n",
       "      <td>1</td>\n",
       "      <td>0</td>\n",
       "      <td>0</td>\n",
       "      <td>False</td>\n",
       "      <td>2.738960</td>\n",
       "      <td>0.051479</td>\n",
       "      <td>-0.054361</td>\n",
       "      <td>112500.0</td>\n",
       "      <td>inf</td>\n",
       "      <td>0</td>\n",
       "    </tr>\n",
       "  </tbody>\n",
       "</table>\n",
       "<p>5 rows × 250 columns</p>\n",
       "</div>"
      ],
      "text/plain": [
       "        SK_ID_CURR  CNT_CHILDREN  AMT_INCOME_TOTAL  AMT_CREDIT  AMT_ANNUITY  \\\n",
       "245895      384575             2          207000.0    465457.5      52641.0   \n",
       "98194       214010             0          247500.0   1281712.5      48946.5   \n",
       "36463       142232             0          202500.0    495000.0      39109.5   \n",
       "249923      389171             0          247500.0    254700.0      24939.0   \n",
       "158389      283617             0          112500.0    308133.0      15862.5   \n",
       "\n",
       "        AMT_GOODS_PRICE  REGION_POPULATION_RELATIVE  DAYS_BIRTH  \\\n",
       "245895         418500.0                    0.009630       13297   \n",
       "98194         1179000.0                    0.006852       14778   \n",
       "36463          495000.0                    0.035792       17907   \n",
       "249923         225000.0                    0.046220       19626   \n",
       "158389         234000.0                    0.018850       20327   \n",
       "\n",
       "        DAYS_EMPLOYED  DAYS_REGISTRATION      ...        \\\n",
       "245895         -762.0             -637.0      ...         \n",
       "98194         -1141.0            -1610.0      ...         \n",
       "36463          -639.0            -2507.0      ...         \n",
       "249923        -6982.0           -11167.0      ...         \n",
       "158389        -1105.0            -7299.0      ...         \n",
       "\n",
       "        EMERGENCYSTATE_MODE_No  EMERGENCYSTATE_MODE_Yes  TARGET  \\\n",
       "245895                       0                        0       0   \n",
       "98194                        1                        0       0   \n",
       "36463                        0                        0       0   \n",
       "249923                       1                        0       0   \n",
       "158389                       1                        0       0   \n",
       "\n",
       "        DAYS_EMPLOYED_OUTLIER  CREDIT_INCOME_PERCENT  CREDIT_TERM  \\\n",
       "245895                  False               2.248587     0.113095   \n",
       "98194                   False               5.178636     0.038188   \n",
       "36463                   False               2.444444     0.079009   \n",
       "249923                  False               1.029091     0.097915   \n",
       "158389                  False               2.738960     0.051479   \n",
       "\n",
       "        DAYS_EMPLOYED_PERCENT  INCOME_VS_FAMILY_SIZE  INCOME_VS_CHILDREN  \\\n",
       "245895              -0.057306                51750.0        1.035000e+05   \n",
       "98194               -0.077209               247500.0                 inf   \n",
       "36463               -0.035684               101250.0                 inf   \n",
       "249923              -0.355753               247500.0                 inf   \n",
       "158389              -0.054361               112500.0                 inf   \n",
       "\n",
       "        SINGLE_PARENT  \n",
       "245895              0  \n",
       "98194               0  \n",
       "36463               0  \n",
       "249923              0  \n",
       "158389              0  \n",
       "\n",
       "[5 rows x 250 columns]"
      ]
     },
     "execution_count": 132,
     "metadata": {},
     "output_type": "execute_result"
    }
   ],
   "source": [
    "# Redo extraction of train / test set for Kfold validation\n",
    "# Sample 20000 rows (15000 for training, 5000 for testing)\n",
    "subset = app_train_domain.sample(n = 20000, random_state = 42)\n",
    "print('Subset data shape: ', subset.shape)\n",
    "subset.head()"
   ]
  },
  {
   "cell_type": "code",
   "execution_count": 133,
   "metadata": {},
   "outputs": [
    {
     "name": "stdout",
     "output_type": "stream",
     "text": [
      "Training features data shape:  (15000, 248)\n",
      "Testing features data shape: (5000, 248)\n"
     ]
    }
   ],
   "source": [
    "# Split into features and labels, split into train and test\n",
    "# Extract the labels\n",
    "labels = np.array(subset['TARGET'].astype(np.int32)).reshape((-1, ))\n",
    "features = subset.drop(columns = ['TARGET', 'SK_ID_CURR'])\n",
    "\n",
    "# Split into training and testing data\n",
    "train_features, test_features, train_labels, test_labels = train_test_split(features, labels, test_size = 5000, random_state = 50)\n",
    "print('Training features data shape: ', train_features.shape)\n",
    "print('Testing features data shape:', test_features.shape)"
   ]
  },
  {
   "cell_type": "code",
   "execution_count": 134,
   "metadata": {},
   "outputs": [],
   "source": [
    "# Use LGB functions to create a dataset\n",
    "train_set = lgb.Dataset(data = train_features, label = train_labels)\n",
    "test_set = lgb.Dataset(data = test_features, label = test_labels)\n",
    "\n",
    "# Get default hyperparameters\n",
    "model = lgb.LGBMClassifier()\n",
    "default_params = model.get_params()\n",
    "\n",
    "# Remove the number of estimators because we set this to 10000 in the cv call\n",
    "del default_params['n_estimators']\n",
    "\n",
    "# Cross validation with early stopping\n",
    "cv_results = lgb.cv(default_params, train_set, num_boost_round = 10000, early_stopping_rounds = 100, \n",
    "                    metrics = 'auc', nfold = N_FOLDS, seed = 42)"
   ]
  },
  {
   "cell_type": "code",
   "execution_count": 135,
   "metadata": {},
   "outputs": [
    {
     "name": "stdout",
     "output_type": "stream",
     "text": [
      "The maximum validation ROC AUC was: 0.73114 with a standard deviation of 0.02202.\n",
      "The optimal number of boosting rounds (estimators) was 26.\n"
     ]
    },
    {
     "data": {
      "image/png": "[encoded data removed]",
      "text/plain": [
       "<Figure size 432x288 with 1 Axes>"
      ]
     },
     "metadata": {},
     "output_type": "display_data"
    }
   ],
   "source": [
    "# Just a quick peek inside the cv_results dictionary\n",
    "plt.plot(cv_results['auc-mean']); plt.xlabel('Number of estimators'); plt.ylabel('ROC AUC')\n",
    "plt.title('KFold Validation Results');\n",
    "\n",
    "#Print results\n",
    "print('The maximum validation ROC AUC was: {:.5f} with a standard deviation of {:.5f}.'.format(cv_results['auc-mean'][-1], cv_results['auc-stdv'][-1]))\n",
    "print('The optimal number of boosting rounds (estimators) was {}.'.format(len(cv_results['auc-mean'])))"
   ]
  },
  {
   "cell_type": "markdown",
   "metadata": {},
   "source": [
    "#### Synthetic polynomial features"
   ]
  },
  {
   "cell_type": "code",
   "execution_count": 137,
   "metadata": {},
   "outputs": [],
   "source": [
    "#Polynomial helper function\n",
    "def poli_feature_append(dataframe_in):\n",
    "    dataframe_in['app EXT_SOURCE mean'] = dataframe_in[['EXT_SOURCE_1', 'EXT_SOURCE_2', 'EXT_SOURCE_3']].mean(axis = 1)\n",
    "    dataframe_in['app EXT_SOURCE std'] = dataframe_in[['EXT_SOURCE_1', 'EXT_SOURCE_2', 'EXT_SOURCE_3']].std(axis = 1)\n",
    "    dataframe_in['app EXT_SOURCE prod'] = dataframe_in['EXT_SOURCE_1'] * dataframe_in['EXT_SOURCE_2'] * dataframe_in['EXT_SOURCE_3']\n",
    "    dataframe_in['app EXT_SOURCE_1 * EXT_SOURCE_2'] = dataframe_in['EXT_SOURCE_1'] * dataframe_in['EXT_SOURCE_2']\n",
    "    dataframe_in['app EXT_SOURCE_1 * EXT_SOURCE_3'] = dataframe_in['EXT_SOURCE_1'] * dataframe_in['EXT_SOURCE_3']\n",
    "    dataframe_in['app EXT_SOURCE_2 * EXT_SOURCE_3'] = dataframe_in['EXT_SOURCE_2'] * dataframe_in['EXT_SOURCE_3']\n",
    "    dataframe_in['app EXT_SOURCE_1 * DAYS_EMPLOYED'] = dataframe_in['EXT_SOURCE_1'] * dataframe_in['DAYS_EMPLOYED']\n",
    "    dataframe_in['app EXT_SOURCE_2 * DAYS_EMPLOYED'] = dataframe_in['EXT_SOURCE_2'] * dataframe_in['DAYS_EMPLOYED']\n",
    "    dataframe_in['app EXT_SOURCE_3 * DAYS_EMPLOYED'] = dataframe_in['EXT_SOURCE_3'] * dataframe_in['DAYS_EMPLOYED']\n",
    "    dataframe_in['app EXT_SOURCE_1 / DAYS_BIRTH'] = dataframe_in['EXT_SOURCE_1'] / dataframe_in['DAYS_BIRTH']\n",
    "    dataframe_in['app EXT_SOURCE_2 / DAYS_BIRTH'] = dataframe_in['EXT_SOURCE_2'] / dataframe_in['DAYS_BIRTH']\n",
    "    dataframe_in['app EXT_SOURCE_3 / DAYS_BIRTH'] = dataframe_in['EXT_SOURCE_3'] / dataframe_in['DAYS_BIRTH']\n",
    "    dataframe_in['app AMT_CREDIT - AMT_GOODS_PRICE'] = dataframe_in['AMT_CREDIT'] - dataframe_in['AMT_GOODS_PRICE']\n",
    "    dataframe_in['app AMT_CREDIT / AMT_GOODS_PRICE'] = dataframe_in['AMT_CREDIT'] / dataframe_in['AMT_GOODS_PRICE']\n",
    "    dataframe_in['app AMT_CREDIT / AMT_ANNUITY'] = dataframe_in['AMT_CREDIT'] / dataframe_in['AMT_ANNUITY']\n",
    "    dataframe_in['app AMT_CREDIT / AMT_INCOME_TOTAL'] = dataframe_in['AMT_CREDIT'] / dataframe_in['AMT_INCOME_TOTAL']\n",
    "    dataframe_in['app AMT_INCOME_TOTAL / 12 - AMT_ANNUITY'] = dataframe_in['AMT_INCOME_TOTAL'] / 12. - dataframe_in['AMT_ANNUITY']\n",
    "    dataframe_in['app AMT_INCOME_TOTAL / AMT_ANNUITY'] = dataframe_in['AMT_INCOME_TOTAL'] / dataframe_in['AMT_ANNUITY']\n",
    "    dataframe_in['app AMT_INCOME_TOTAL - AMT_GOODS_PRICE'] = dataframe_in['AMT_INCOME_TOTAL'] - dataframe_in['AMT_GOODS_PRICE']\n",
    "    dataframe_in['app OWN_CAR_AGE / DAYS_BIRTH'] = dataframe_in['OWN_CAR_AGE'] / dataframe_in['DAYS_BIRTH']\n",
    "    dataframe_in['app OWN_CAR_AGE / DAYS_EMPLOYED'] = dataframe_in['OWN_CAR_AGE'] / dataframe_in['DAYS_EMPLOYED']\n",
    "    dataframe_in['app DAYS_LAST_PHONE_CHANGE / DAYS_BIRTH'] = dataframe_in['DAYS_LAST_PHONE_CHANGE'] / dataframe_in['DAYS_BIRTH']\n",
    "    dataframe_in['app DAYS_LAST_PHONE_CHANGE / DAYS_EMPLOYED'] = dataframe_in['DAYS_LAST_PHONE_CHANGE'] / dataframe_in['DAYS_EMPLOYED']\n",
    "    dataframe_in['app DAYS_EMPLOYED - DAYS_BIRTH'] = dataframe_in['DAYS_EMPLOYED'] - dataframe_in['DAYS_BIRTH']\n",
    "    return dataframe_in\n"
   ]
  },
  {
   "cell_type": "code",
   "execution_count": 147,
   "metadata": {},
   "outputs": [
    {
     "name": "stdout",
     "output_type": "stream",
     "text": [
      "(307511, 274)\n",
      "(48744, 273)\n"
     ]
    }
   ],
   "source": [
    "app_train_domain_poli = poli_feature_append(app_train_domain)\n",
    "app_test_domain_poli = poli_feature_append(app_test_domain)\n",
    "print(app_train_domain_poli.shape)\n",
    "print(app_test_domain_poli.shape)"
   ]
  },
  {
   "cell_type": "code",
   "execution_count": 148,
   "metadata": {},
   "outputs": [
    {
     "name": "stdout",
     "output_type": "stream",
     "text": [
      "Most Positive Correlations:\n",
      " REGION_RATING_CLIENT                0.058899\n",
      "REGION_RATING_CLIENT_W_CITY         0.060893\n",
      "DAYS_EMPLOYED_PERCENT               0.067955\n",
      "app AMT_CREDIT / AMT_GOODS_PRICE    0.069427\n",
      "DAYS_EMPLOYED                       0.074958\n",
      "app DAYS_EMPLOYED - DAYS_BIRTH      0.083361\n",
      "app EXT_SOURCE_1 * DAYS_EMPLOYED    0.090050\n",
      "app EXT_SOURCE_2 * DAYS_EMPLOYED    0.105509\n",
      "app EXT_SOURCE_3 * DAYS_EMPLOYED    0.110831\n",
      "TARGET                              1.000000\n",
      "Name: TARGET, dtype: float64\n",
      "\n",
      "Most Negative Correlations:\n",
      " app EXT_SOURCE mean               -0.222052\n",
      "app EXT_SOURCE_2 * EXT_SOURCE_3   -0.199487\n",
      "app EXT_SOURCE prod               -0.188552\n",
      "app EXT_SOURCE_1 * EXT_SOURCE_3   -0.187832\n",
      "EXT_SOURCE_3                      -0.178919\n",
      "app EXT_SOURCE_1 * EXT_SOURCE_2   -0.175575\n",
      "EXT_SOURCE_2                      -0.160472\n",
      "EXT_SOURCE_1                      -0.155317\n",
      "app EXT_SOURCE_1 / DAYS_BIRTH     -0.142094\n",
      "app EXT_SOURCE_3 / DAYS_BIRTH     -0.115915\n",
      "Name: TARGET, dtype: float64\n"
     ]
    }
   ],
   "source": [
    "# Check to see if anything has changed in correlation matrix as a naive way to evaluate impact of new features\n",
    "correlations = app_train_domain_poli.corr()['TARGET'].sort_values()\n",
    "\n",
    "#Find and print top 10 positive correlations\n",
    "print('Most Positive Correlations:\\n', correlations.tail(10))\n",
    "#Find and print top 10 negative correlations\n",
    "print('\\nMost Negative Correlations:\\n', correlations.head(10))"
   ]
  },
  {
   "cell_type": "markdown",
   "metadata": {},
   "source": [
    "Bingo! Lots of new strongly correlated variables!!"
   ]
  },
  {
   "cell_type": "code",
   "execution_count": 149,
   "metadata": {},
   "outputs": [
    {
     "name": "stdout",
     "output_type": "stream",
     "text": [
      "Subset data shape:  (20000, 274)\n"
     ]
    }
   ],
   "source": [
    "# Redo extraction of train / test set for Kfold validation\n",
    "# Sample 20000 rows (15000 for training, 5000 for testing)\n",
    "subset = app_train_domain_poli.sample(n = 20000, random_state = 42)\n",
    "print('Subset data shape: ', subset.shape)\n"
   ]
  },
  {
   "cell_type": "code",
   "execution_count": 150,
   "metadata": {},
   "outputs": [
    {
     "name": "stdout",
     "output_type": "stream",
     "text": [
      "Training features data shape:  (15000, 272)\n",
      "Testing features data shape: (5000, 272)\n"
     ]
    }
   ],
   "source": [
    "# Split into features and labels, split into train and test\n",
    "# Extract the labels\n",
    "labels = np.array(subset['TARGET'].astype(np.int32)).reshape((-1, ))\n",
    "features = subset.drop(columns = ['TARGET', 'SK_ID_CURR'])\n",
    "\n",
    "# Split into training and testing data\n",
    "train_features, test_features, train_labels, test_labels = train_test_split(features, labels, test_size = 5000, random_state = 50)\n",
    "print('Training features data shape: ', train_features.shape)\n",
    "print('Testing features data shape:', test_features.shape)"
   ]
  },
  {
   "cell_type": "code",
   "execution_count": 151,
   "metadata": {},
   "outputs": [],
   "source": [
    "# Use LGB functions to create a dataset\n",
    "train_set = lgb.Dataset(data = train_features, label = train_labels)\n",
    "test_set = lgb.Dataset(data = test_features, label = test_labels)\n",
    "\n",
    "# Get default hyperparameters\n",
    "model = lgb.LGBMClassifier()\n",
    "default_params = model.get_params()\n",
    "\n",
    "# Remove the number of estimators because we set this to 10000 in the cv call\n",
    "del default_params['n_estimators']\n",
    "\n",
    "# Cross validation with early stopping\n",
    "cv_results = lgb.cv(default_params, train_set, num_boost_round = 10000, early_stopping_rounds = 100, \n",
    "                    metrics = 'auc', nfold = N_FOLDS, seed = 42)"
   ]
  },
  {
   "cell_type": "code",
   "execution_count": 152,
   "metadata": {},
   "outputs": [
    {
     "name": "stdout",
     "output_type": "stream",
     "text": [
      "The maximum validation ROC AUC was: 0.73063 with a standard deviation of 0.02060.\n",
      "The optimal number of boosting rounds (estimators) was 17.\n"
     ]
    },
    {
     "data": {
      "image/png": "[encoded data removed]",
      "text/plain": [
       "<Figure size 432x288 with 1 Axes>"
      ]
     },
     "metadata": {},
     "output_type": "display_data"
    }
   ],
   "source": [
    "# Just a quick peek inside the cv_results dictionary\n",
    "plt.plot(cv_results['auc-mean']); plt.xlabel('Number of estimators'); plt.ylabel('ROC AUC')\n",
    "plt.title('KFold Validation Results');\n",
    "\n",
    "#Print results\n",
    "print('The maximum validation ROC AUC was: {:.5f} with a standard deviation of {:.5f}.'.format(cv_results['auc-mean'][-1], cv_results['auc-stdv'][-1]))\n",
    "print('The optimal number of boosting rounds (estimators) was {}.'.format(len(cv_results['auc-mean'])))"
   ]
  },
  {
   "cell_type": "markdown",
   "metadata": {},
   "source": [
    "Pretty much flat on the ROC AUC, but huge reduction in boosting rounds due to bigger feature space, some with strong correlation."
   ]
  },
  {
   "cell_type": "markdown",
   "metadata": {},
   "source": [
    "## Hyperparameter Tuning \n",
    "As a first cut, I am using RandomSearch to narrow down the overall field of candidate hyperparameters.\n",
    "We'll need and Objective Function, the Hyperparameter Domain, an algorithm to pick hyperparameters randomly and a data struct to store and ultimately serialize results."
   ]
  },
  {
   "cell_type": "markdown",
   "metadata": {},
   "source": [
    "### Random Search"
   ]
  },
  {
   "cell_type": "markdown",
   "metadata": {},
   "source": [
    "#### Objective Function\n",
    "Generalized utility objective function to process hyperparameter domain"
   ]
  },
  {
   "cell_type": "code",
   "execution_count": 153,
   "metadata": {},
   "outputs": [],
   "source": [
    "def objective(hyperparameters, iteration):\n",
    "   # Outputs the CV score per hyperparameter set\n",
    "    \n",
    "    # Number of estimators will be found using early stopping\n",
    "    if 'n_estimators' in hyperparameters.keys():\n",
    "        del hyperparameters['n_estimators']\n",
    "    \n",
    "     # Perform n_folds cross validation\n",
    "    cv_results = lgb.cv(hyperparameters, train_set, num_boost_round = 10000, nfold = N_FOLDS, \n",
    "                        early_stopping_rounds = 100, metrics = 'auc', seed = 42)\n",
    "    \n",
    "    # results to retun\n",
    "    score = cv_results['auc-mean'][-1]\n",
    "    estimators = len(cv_results['auc-mean'])\n",
    "    hyperparameters['n_estimators'] = estimators \n",
    "    \n",
    "    return [score, hyperparameters, iteration]"
   ]
  },
  {
   "cell_type": "markdown",
   "metadata": {},
   "source": [
    "#### Data structure to hold results\n",
    "A simple data frame correctly sized to Max_evals parameter"
   ]
  },
  {
   "cell_type": "code",
   "execution_count": 154,
   "metadata": {},
   "outputs": [],
   "source": [
    "random_results = pd.DataFrame(columns = ['score', 'params', 'iteration', 'start_time', 'stop_time', 'elapsed_time'],\n",
    "                              index = list(range(MAX_EVALS)))"
   ]
  },
  {
   "cell_type": "markdown",
   "metadata": {},
   "source": [
    "#### Domain\n",
    "Obtain dictionary output of hyperparameters for generic LGBM model"
   ]
  },
  {
   "cell_type": "code",
   "execution_count": 155,
   "metadata": {},
   "outputs": [
    {
     "data": {
      "text/plain": [
       "{'boosting_type': 'gbdt',\n",
       " 'class_weight': None,\n",
       " 'colsample_bytree': 1.0,\n",
       " 'learning_rate': 0.1,\n",
       " 'max_depth': -1,\n",
       " 'min_child_samples': 20,\n",
       " 'min_child_weight': 0.001,\n",
       " 'min_split_gain': 0.0,\n",
       " 'n_estimators': 100,\n",
       " 'n_jobs': -1,\n",
       " 'num_leaves': 31,\n",
       " 'objective': None,\n",
       " 'random_state': None,\n",
       " 'reg_alpha': 0.0,\n",
       " 'reg_lambda': 0.0,\n",
       " 'silent': True,\n",
       " 'subsample': 1.0,\n",
       " 'subsample_for_bin': 200000,\n",
       " 'subsample_freq': 0}"
      ]
     },
     "execution_count": 155,
     "metadata": {},
     "output_type": "execute_result"
    }
   ],
   "source": [
    "model = lgb.LGBMModel()\n",
    "model.get_params()"
   ]
  },
  {
   "cell_type": "markdown",
   "metadata": {},
   "source": [
    "Of the 19 hyperparameters, only a subset are of interest. Specifically, we'll restrict our domain to the following 10 hyperparameters.\n",
    "For better segmentation of learning rate, we are using log space list.\n",
    "Binning, min_child_samples etc. will happen in linear space in linear increments."
   ]
  },
  {
   "cell_type": "code",
   "execution_count": 156,
   "metadata": {},
   "outputs": [],
   "source": [
    "# Hyperparameter domain\n",
    "param_grid = {\n",
    "    'boosting_type': ['gbdt', 'goss', 'dart'],\n",
    "    'num_leaves': list(range(20, 100)),\n",
    "    'learning_rate': list(np.logspace(np.log10(0.005), np.log10(0.5), base = 10, num = 1000)), #more elegant way of covering learning rate continuum than hardcoding values\n",
    "    'subsample_for_bin': list(range(20000, 300000, 20000)),\n",
    "    'min_child_samples': list(range(20, 500, 5)),\n",
    "    'reg_alpha': list(np.linspace(0, 1)),\n",
    "    'reg_lambda': list(np.linspace(0, 1)),\n",
    "    'colsample_bytree': list(np.linspace(0.6, 1, 10)),\n",
    "    'subsample': list(np.linspace(0.5, 1, 100)),\n",
    "    'is_unbalance': [True, False]\n",
    "}"
   ]
  },
  {
   "cell_type": "markdown",
   "metadata": {},
   "source": [
    "#### Algorithm to iterate through randomly selected hyperparameters until MAX_EVAL is reached\n",
    "First, need to be able to populate a random sub-sample from the overall hyperparameter grab bag above."
   ]
  },
  {
   "cell_type": "code",
   "execution_count": 157,
   "metadata": {},
   "outputs": [],
   "source": [
    "import random\n",
    "import datetime\n",
    "import csv\n",
    "random.seed(50)"
   ]
  },
  {
   "cell_type": "code",
   "execution_count": 158,
   "metadata": {},
   "outputs": [],
   "source": [
    "def random_search(param_grid, max_evals = MAX_EVALS):\n",
    "        \n",
    "    # Dataframe for results\n",
    "    results = pd.DataFrame(columns = ['score', 'params', 'iteration', 'start_time', 'stop_time', 'elapsed_time'],\n",
    "                                  index = list(range(MAX_EVALS)))\n",
    "    \n",
    "    # Keep searching until reach max evaluations\n",
    "    for i in range(MAX_EVALS):\n",
    "        #Measure time it takes for each iteration and record\n",
    "        start_time = datetime.datetime.now()\n",
    "        # Choose random hyperparameters\n",
    "        hyperparameters = {k: random.sample(v, 1)[0] for k, v in param_grid.items()}\n",
    "        hyperparameters['subsample'] = 1.0 if hyperparameters['boosting_type'] == 'goss' else hyperparameters['subsample']\n",
    "\n",
    "        # Evaluate randomly selected hyperparameters, keep track of execution time\n",
    "        eval_results = objective(hyperparameters, i)\n",
    "        stop_time = datetime.datetime.now()\n",
    "        elapsed_time = stop_time -start_time\n",
    "        eval_results.extend([start_time,stop_time, elapsed_time])\n",
    "        results.loc[i, :] = eval_results\n",
    "        \n",
    "        # Generate output file after each iteration\n",
    "        of_connection = open(out_file, 'a')\n",
    "        writer = csv.writer(of_connection)\n",
    "        writer.writerow(eval_results)\n",
    "        \n",
    "        # make sure to close connection\n",
    "        of_connection.close()\n",
    "        \n",
    "    # Sort with best score on top\n",
    "    results.sort_values('score', ascending = False, inplace = True)\n",
    "    results.reset_index(inplace = True)\n",
    "    return results "
   ]
  },
  {
   "cell_type": "code",
   "execution_count": 159,
   "metadata": {},
   "outputs": [],
   "source": [
    "# Create file and open connection\n",
    "out_file = 'random_search_results_' + str(MAX_EVALS) +'_iterations.csv'\n",
    "of_connection = open(out_file, 'w')\n",
    "writer = csv.writer(of_connection)\n",
    "\n",
    "# Write column names\n",
    "headers = ['score', 'hyperparameters', 'iteration','start_time', 'stop_time', 'elapsed_time']\n",
    "writer.writerow(headers)\n",
    "of_connection.close()"
   ]
  },
  {
   "cell_type": "markdown",
   "metadata": {},
   "source": [
    "Ready to go! (Computationally VERY EXPENSIVE!)"
   ]
  },
  {
   "cell_type": "code",
   "execution_count": 160,
   "metadata": {},
   "outputs": [],
   "source": [
    "# lives in its own cell as it is computationally expensive\n",
    "random_results = random_search(param_grid)"
   ]
  },
  {
   "cell_type": "code",
   "execution_count": 184,
   "metadata": {},
   "outputs": [
    {
     "name": "stdout",
     "output_type": "stream",
     "text": [
      "The best validation score was 0.74690\n",
      "\n",
      "The best hyperparameters were:\n",
      "{'boosting_type': 'gbdt',\n",
      " 'colsample_bytree': 0.6,\n",
      " 'is_unbalance': False,\n",
      " 'learning_rate': 0.015902760076664597,\n",
      " 'metric': 'auc',\n",
      " 'min_child_samples': 175,\n",
      " 'n_estimators': 73,\n",
      " 'num_leaves': 62,\n",
      " 'reg_alpha': 0.673469387755102,\n",
      " 'reg_lambda': 0.44897959183673464,\n",
      " 'subsample': 1.0,\n",
      " 'subsample_for_bin': 60000,\n",
      " 'verbose': 1}\n"
     ]
    }
   ],
   "source": [
    "import pprint\n",
    "\n",
    "print('The best validation score was {:.5f}'.format(random_results.loc[0, 'score']))\n",
    "print('\\nThe best hyperparameters were:')\n",
    "\n",
    "pprint.pprint(random_results.loc[0, 'params'])"
   ]
  },
  {
   "cell_type": "markdown",
   "metadata": {},
   "source": [
    "Now let's test this again against our \"test\" set"
   ]
  },
  {
   "cell_type": "code",
   "execution_count": 162,
   "metadata": {
    "scrolled": true
   },
   "outputs": [
    {
     "name": "stdout",
     "output_type": "stream",
     "text": [
      "The best model from random search scores 0.74321 ROC AUC on the test set.\n"
     ]
    }
   ],
   "source": [
    "# Get the best parameters\n",
    "random_search_params = random_results.loc[0, 'params']\n",
    "\n",
    "# Create, train, test model\n",
    "model = lgb.LGBMClassifier(**random_search_params, random_state = 42)\n",
    "model.fit(train_features, train_labels)\n",
    "preds = model.predict_proba(test_features)[:, 1]\n",
    "\n",
    "print('The best model from random search scores {:.5f} ROC AUC on the test set.'.format(roc_auc_score(test_labels, preds)))"
   ]
  },
  {
   "cell_type": "markdown",
   "metadata": {},
   "source": [
    "A slight improvement over the totally out of the box LGBM (which yielded 0.73781 ROC AUC). \n",
    "\n",
    "Now let's run it against the full test set for the Kaggle competition again to get an official score."
   ]
  },
  {
   "cell_type": "code",
   "execution_count": 164,
   "metadata": {},
   "outputs": [
    {
     "name": "stdout",
     "output_type": "stream",
     "text": [
      "(48744, 272)\n"
     ]
    }
   ],
   "source": [
    "#Random parameter test\n",
    "random_param_search_test_ids = app_test_domain_poli['SK_ID_CURR']\n",
    "random_param_search_test = app_test_domain_poli.drop(columns = ['SK_ID_CURR'])\n",
    "print(random_param_search_test.shape)\n",
    "\n",
    "#Use existing model from above to create predictions for our test set\n",
    "preds = model.predict_proba(random_param_search_test)[:, 1]\n",
    "\n",
    "# Generate submission file in approved format\n",
    "submission = pd.DataFrame({'SK_ID_CURR': random_param_search_test_ids, 'TARGET': preds})\n",
    "submission.to_csv('submission_random_param_search_LGBM.csv', index = False)"
   ]
  },
  {
   "cell_type": "markdown",
   "metadata": {},
   "source": [
    "Improvement in the officially scored Kaggle category. The new result is 0.71985 vs. the earlier 0.68025."
   ]
  },
  {
   "attachments": {
    "LGBM_submission_score_with_random_param_search_and_domain_and_polynomial.PNG": {
     "image/png": "[encoded data removed]"
    }
   },
   "cell_type": "markdown",
   "metadata": {},
   "source": [
    "![LGBM_submission_score_with_random_param_search_and_domain_and_polynomial.PNG](attachment:LGBM_submission_score_with_random_param_search_and_domain_and_polynomial.PNG)"
   ]
  },
  {
   "cell_type": "markdown",
   "metadata": {},
   "source": [
    "### Refining Random Search with GridSearch"
   ]
  },
  {
   "cell_type": "markdown",
   "metadata": {},
   "source": [
    "The best ROC AUC score in all experiments with RandomSearch was the below parameter grid"
   ]
  },
  {
   "cell_type": "code",
   "execution_count": 227,
   "metadata": {},
   "outputs": [],
   "source": [
    "best_param_grid = {\n",
    "    'boosting_type': 'gbdt', \n",
    "    'num_leaves': 62, \n",
    "    'learning_rate': 0.015902760076664597, \n",
    "    'subsample_for_bin': 60000, \n",
    "    'min_child_samples': 175, \n",
    "    'reg_alpha': 0.673469387755102, \n",
    "    'reg_lambda': 0.44897959183673464, \n",
    "    'colsample_bytree': 0.6, \n",
    "    'subsample': 1.0, \n",
    "    'is_unbalance': False, \n",
    "    'metric': 'auc', \n",
    "    'verbose': 1, \n",
    "    'n_estimators': 73\n",
    "}  \n",
    "    "
   ]
  },
  {
   "cell_type": "markdown",
   "metadata": {},
   "source": [
    "I exported the overall results from \"random_search_results_40_iterations.csv\" and flattened the parameter grids into individual columns. After sorting by ROC AUC, I then took the range of optimal values indicated by the random search results to indicate the \"centroid\" for a GridSearch. The processed file \"GridSearch Hyperparameters - Expanded Feature Space.xlsx\" is attached to this submission."
   ]
  },
  {
   "cell_type": "code",
   "execution_count": 228,
   "metadata": {},
   "outputs": [],
   "source": [
    "GridSearch_param_grid = {\n",
    "    'boosting_type': ['gbdt', 'dart'],\n",
    "    'num_leaves': list(range(15, 100,5)), \n",
    "    'learning_rate': list(np.logspace(np.log10(0.003), np.log10(0.05), base = 10, num = 10)),#except one outlier, all learning rates below 0.08, so restricting this domain severly\n",
    "    'subsample_for_bin': list(range(20000, 110000, 10000)),\n",
    "    'min_child_samples': list(range(120, 500, 10)), \n",
    "    'reg_alpha': list(np.linspace(0.1, 0.8,5)),\n",
    "    'reg_lambda': list(np.linspace(0.1, 0.8,5)),\n",
    "    'colsample_bytree': list(np.linspace(0.6, 0.9, 5)),\n",
    "    'subsample': list(np.linspace(0.6, 0.9, 5)),\n",
    "    'is_unbalance': [True, False]\n",
    "}"
   ]
  },
  {
   "cell_type": "code",
   "execution_count": 233,
   "metadata": {},
   "outputs": [],
   "source": [
    "# Create parameter grid to hold results\n",
    "grid_results = pd.DataFrame(columns = ['score', 'params', 'iteration', 'start_time', 'stop_time', 'elapsed_time'],\n",
    "                              index = list(range(MAX_EVALS)))"
   ]
  },
  {
   "cell_type": "code",
   "execution_count": 234,
   "metadata": {},
   "outputs": [],
   "source": [
    "# Set max iterations for GridSearch\n",
    "\n",
    "MAX_GRIDSEARCH_EVALS = 40\n",
    "\n",
    "import itertools\n",
    "\n",
    "def grid_search(param_grid, max_evals = MAX_GRIDSEARCH_EVALS):\n",
    "       \n",
    "    # Dataframe to store results\n",
    "    results = pd.DataFrame(columns = ['score', 'params', 'iteration', 'start_time', 'stop_time', 'elapsed_time'],\n",
    "                              index = list(range(MAX_GRIDSEARCH_EVALS)))\n",
    "    \n",
    "    # https://codereview.stackexchange.com/questions/171173/list-all-possible-permutations-from-a-python-dictionary-of-lists\n",
    "    keys, values = zip(*GridSearch_param_grid.items())\n",
    "    \n",
    "    i = 0\n",
    "    \n",
    "    # Iterate through every possible combination of hyperparameters\n",
    "    for v in itertools.product(*values):\n",
    "        \n",
    "        # Time stamp - start\n",
    "        start_time = datetime.datetime.now()\n",
    "        # Create a hyperparameter dictionary\n",
    "        hyperparameters = dict(zip(keys, v))\n",
    "        \n",
    "                \n",
    "        # Evaluate the hyperparameters\n",
    "        eval_results = objective(hyperparameters, i)\n",
    "        stop_time = datetime.datetime.now()\n",
    "        elapsed_time = stop_time -start_time\n",
    "        eval_results.extend([start_time,stop_time, elapsed_time])\n",
    "        results.loc[i, :] = eval_results\n",
    "        \n",
    "        i += 1\n",
    "        # Append output file after each iteration\n",
    "        of_connection = open(out_file, 'a')\n",
    "        writer = csv.writer(of_connection)\n",
    "        writer.writerow(eval_results)\n",
    "        \n",
    "        # Close connection\n",
    "        of_connection.close()        \n",
    "        # Have to limit in recognition of limited compute power and time available\n",
    "        if i > MAX_GRIDSEARCH_EVALS:\n",
    "            break\n",
    "       \n",
    "    # Sort with best score on top\n",
    "    results.sort_values('score', ascending = False, inplace = True)\n",
    "    results.reset_index(inplace = True)\n",
    "    \n",
    "    return results    "
   ]
  },
  {
   "cell_type": "code",
   "execution_count": 235,
   "metadata": {},
   "outputs": [],
   "source": [
    "# Create file and open connection\n",
    "out_file = 'grid_search_results_domain_features_' + str(MAX_GRIDSEARCH_EVALS) +'_iterations.csv'\n",
    "of_connection = open(out_file, 'w')\n",
    "writer = csv.writer(of_connection)\n",
    "\n",
    "# Write column names\n",
    "headers = ['score', 'hyperparameters', 'iteration','start_time', 'stop_time', 'elapsed_time']\n",
    "writer.writerow(headers)\n",
    "of_connection.close()"
   ]
  },
  {
   "cell_type": "code",
   "execution_count": 236,
   "metadata": {},
   "outputs": [],
   "source": [
    "# Computationally expense, lives in its own cell for safety!\n",
    "grid_results = grid_search(GridSearch_param_grid)"
   ]
  },
  {
   "cell_type": "code",
   "execution_count": 237,
   "metadata": {},
   "outputs": [
    {
     "name": "stdout",
     "output_type": "stream",
     "text": [
      "The best validation score was 0.74814\n",
      "\n",
      "The best hyperparameters were:\n",
      "{'boosting_type': 'gbdt',\n",
      " 'colsample_bytree': 0.6,\n",
      " 'is_unbalance': True,\n",
      " 'learning_rate': 0.003000000000000001,\n",
      " 'metric': 'auc',\n",
      " 'min_child_samples': 120,\n",
      " 'n_estimators': 1743,\n",
      " 'num_leaves': 15,\n",
      " 'reg_alpha': 0.1,\n",
      " 'reg_lambda': 0.1,\n",
      " 'subsample': 0.6,\n",
      " 'subsample_for_bin': 20000,\n",
      " 'verbose': 1}\n"
     ]
    }
   ],
   "source": [
    "# Results, please!\n",
    "print('The best validation score was {:.5f}'.format(grid_results.loc[0, 'score']))\n",
    "print('\\nThe best hyperparameters were:')\n",
    "\n",
    "import pprint\n",
    "pprint.pprint(grid_results.loc[0, 'params'])"
   ]
  },
  {
   "cell_type": "code",
   "execution_count": 238,
   "metadata": {},
   "outputs": [
    {
     "name": "stdout",
     "output_type": "stream",
     "text": [
      "The best model from grid search scores 0.73985 ROC AUC on the test set.\n"
     ]
    }
   ],
   "source": [
    "# Get the best parameters\n",
    "grid_search_params = grid_results.loc[0, 'params']\n",
    "\n",
    "# Create, train, test model\n",
    "model = lgb.LGBMClassifier(**grid_search_params, random_state=42)\n",
    "model.fit(train_features, train_labels)\n",
    "\n",
    "preds = model.predict_proba(test_features)[:, 1]\n",
    "\n",
    "print('The best model from grid search scores {:.5f} ROC AUC on the test set.'.format(roc_auc_score(test_labels, preds)))"
   ]
  },
  {
   "cell_type": "code",
   "execution_count": 239,
   "metadata": {},
   "outputs": [],
   "source": [
    "#GridSearch parameter test\n",
    "gridsearch_param_search_test_ids = app_test_domain['SK_ID_CURR']\n",
    "gridsearch_param_search_test = app_test_domain.drop(columns = ['SK_ID_CURR'])\n",
    "\n",
    "#Use existing model from above to create predictions for our test set\n",
    "preds = model.predict_proba(gridsearch_param_search_test)[:, 1]\n",
    "\n",
    "# Generate submission file in approved format\n",
    "submission = pd.DataFrame({'SK_ID_CURR': gridsearch_param_search_test_ids, 'TARGET': preds})\n",
    "submission.to_csv('submission_gridsearch_param_search_plus_domain_features_LGBM.csv', index = False)"
   ]
  },
  {
   "attachments": {
    "grid_search_stats_with_domain_features.PNG": {
     "image/png": "[encoded data removed]"
    }
   },
   "cell_type": "markdown",
   "metadata": {},
   "source": [
    "GridSearch performed as expected, but given the limited compute and time budgets, I was only able to explore 40 permutations. A few of the results shown below. With more compute and time, I could have run a more exhaustive GridSearch, but at 4 minutes per set this could get very expensive very quickly!!![grid_search_stats_with_domain_features.PNG](attachment:grid_search_stats_with_domain_features.PNG)"
   ]
  },
  {
   "attachments": {
    "grid_search_result_domain_poly_features.PNG": {
     "image/png": "[encoded data removed]"
    }
   },
   "cell_type": "markdown",
   "metadata": {},
   "source": [
    "The GridSearch did pay off, however, as the official Kaggle score is now 0.72540!![grid_search_result_domain_poly_features.PNG](attachment:grid_search_result_domain_poly_features.PNG)"
   ]
  },
  {
   "cell_type": "markdown",
   "metadata": {},
   "source": [
    "### One more stab at it...RandomSearch in a much smaller search / parameter space with additional data discovery"
   ]
  },
  {
   "cell_type": "markdown",
   "metadata": {},
   "source": [
    "I thought I'd give this one more try. This time I am doing a random search in the much smaller parameter grid originally created for the grid search. Focused randomness, so to speak. To make things even a bit more clear, I'll do a deep dive on the hyperparameter space using data visualization and correlation analysis. "
   ]
  },
  {
   "cell_type": "code",
   "execution_count": 244,
   "metadata": {},
   "outputs": [
    {
     "name": "stdout",
     "output_type": "stream",
     "text": [
      "Parameter data shape:  (40, 13)\n"
     ]
    },
    {
     "data": {
      "text/html": [
       "<div>\n",
       "<style scoped>\n",
       "    .dataframe tbody tr th:only-of-type {\n",
       "        vertical-align: middle;\n",
       "    }\n",
       "\n",
       "    .dataframe tbody tr th {\n",
       "        vertical-align: top;\n",
       "    }\n",
       "\n",
       "    .dataframe thead th {\n",
       "        text-align: right;\n",
       "    }\n",
       "</style>\n",
       "<table border=\"1\" class=\"dataframe\">\n",
       "  <thead>\n",
       "    <tr style=\"text-align: right;\">\n",
       "      <th></th>\n",
       "      <th>score</th>\n",
       "      <th>Boosting type</th>\n",
       "      <th>Num Leaves</th>\n",
       "      <th>Learning Rate</th>\n",
       "      <th>Subsample for Bin</th>\n",
       "      <th>Min Child Samples</th>\n",
       "      <th>Reg Alpha</th>\n",
       "      <th>Reg Lambda</th>\n",
       "      <th>Colsample by Tree</th>\n",
       "      <th>Subsample</th>\n",
       "      <th>Is Unbalanced</th>\n",
       "      <th>N Estimators</th>\n",
       "      <th>iteration</th>\n",
       "    </tr>\n",
       "  </thead>\n",
       "  <tbody>\n",
       "    <tr>\n",
       "      <th>0</th>\n",
       "      <td>0.746900</td>\n",
       "      <td>gbdt</td>\n",
       "      <td>62</td>\n",
       "      <td>0.015903</td>\n",
       "      <td>60000</td>\n",
       "      <td>175</td>\n",
       "      <td>0.673469</td>\n",
       "      <td>0.448980</td>\n",
       "      <td>0.600000</td>\n",
       "      <td>1.000000</td>\n",
       "      <td>False</td>\n",
       "      <td>73</td>\n",
       "      <td>35</td>\n",
       "    </tr>\n",
       "    <tr>\n",
       "      <th>1</th>\n",
       "      <td>0.746695</td>\n",
       "      <td>gbdt</td>\n",
       "      <td>22</td>\n",
       "      <td>0.006872</td>\n",
       "      <td>160000</td>\n",
       "      <td>445</td>\n",
       "      <td>0.816327</td>\n",
       "      <td>0.734694</td>\n",
       "      <td>0.600000</td>\n",
       "      <td>0.696970</td>\n",
       "      <td>False</td>\n",
       "      <td>247</td>\n",
       "      <td>11</td>\n",
       "    </tr>\n",
       "    <tr>\n",
       "      <th>2</th>\n",
       "      <td>0.746637</td>\n",
       "      <td>dart</td>\n",
       "      <td>95</td>\n",
       "      <td>0.005663</td>\n",
       "      <td>60000</td>\n",
       "      <td>335</td>\n",
       "      <td>0.510204</td>\n",
       "      <td>0.551020</td>\n",
       "      <td>0.822222</td>\n",
       "      <td>0.848485</td>\n",
       "      <td>True</td>\n",
       "      <td>1028</td>\n",
       "      <td>15</td>\n",
       "    </tr>\n",
       "    <tr>\n",
       "      <th>3</th>\n",
       "      <td>0.745646</td>\n",
       "      <td>dart</td>\n",
       "      <td>51</td>\n",
       "      <td>0.007965</td>\n",
       "      <td>20000</td>\n",
       "      <td>360</td>\n",
       "      <td>0.448980</td>\n",
       "      <td>0.795918</td>\n",
       "      <td>0.911111</td>\n",
       "      <td>0.535354</td>\n",
       "      <td>False</td>\n",
       "      <td>950</td>\n",
       "      <td>39</td>\n",
       "    </tr>\n",
       "    <tr>\n",
       "      <th>4</th>\n",
       "      <td>0.745500</td>\n",
       "      <td>gbdt</td>\n",
       "      <td>62</td>\n",
       "      <td>0.086339</td>\n",
       "      <td>200000</td>\n",
       "      <td>290</td>\n",
       "      <td>0.816327</td>\n",
       "      <td>0.102041</td>\n",
       "      <td>0.644444</td>\n",
       "      <td>0.944444</td>\n",
       "      <td>False</td>\n",
       "      <td>13</td>\n",
       "      <td>2</td>\n",
       "    </tr>\n",
       "  </tbody>\n",
       "</table>\n",
       "</div>"
      ],
      "text/plain": [
       "      score Boosting type  Num Leaves  Learning Rate  Subsample for Bin  \\\n",
       "0  0.746900          gbdt          62       0.015903              60000   \n",
       "1  0.746695          gbdt          22       0.006872             160000   \n",
       "2  0.746637          dart          95       0.005663              60000   \n",
       "3  0.745646          dart          51       0.007965              20000   \n",
       "4  0.745500          gbdt          62       0.086339             200000   \n",
       "\n",
       "   Min Child Samples  Reg Alpha  Reg Lambda  Colsample by Tree  Subsample  \\\n",
       "0                175   0.673469    0.448980           0.600000   1.000000   \n",
       "1                445   0.816327    0.734694           0.600000   0.696970   \n",
       "2                335   0.510204    0.551020           0.822222   0.848485   \n",
       "3                360   0.448980    0.795918           0.911111   0.535354   \n",
       "4                290   0.816327    0.102041           0.644444   0.944444   \n",
       "\n",
       "   Is Unbalanced  N Estimators  iteration  \n",
       "0          False            73         35  \n",
       "1          False           247         11  \n",
       "2           True          1028         15  \n",
       "3          False           950         39  \n",
       "4          False            13          2  "
      ]
     },
     "execution_count": 244,
     "metadata": {},
     "output_type": "execute_result"
    }
   ],
   "source": [
    "param_data_csv = os.path.join(fileDir, 'random_search_results_40_iterations - flattened hyperparameters - no time stamps.csv')\n",
    "\n",
    "#Read training data into pandas dataframe from CSV using built-in method\n",
    "param_data = pd.read_csv(param_data_csv)\n",
    "\n",
    "#Visualize data\n",
    "print('Parameter data shape: ', param_data.shape)\n",
    "param_data.head()"
   ]
  },
  {
   "cell_type": "code",
   "execution_count": 245,
   "metadata": {},
   "outputs": [
    {
     "name": "stdout",
     "output_type": "stream",
     "text": [
      "Parameter data shape:  (40, 15)\n"
     ]
    },
    {
     "data": {
      "text/html": [
       "<div>\n",
       "<style scoped>\n",
       "    .dataframe tbody tr th:only-of-type {\n",
       "        vertical-align: middle;\n",
       "    }\n",
       "\n",
       "    .dataframe tbody tr th {\n",
       "        vertical-align: top;\n",
       "    }\n",
       "\n",
       "    .dataframe thead th {\n",
       "        text-align: right;\n",
       "    }\n",
       "</style>\n",
       "<table border=\"1\" class=\"dataframe\">\n",
       "  <thead>\n",
       "    <tr style=\"text-align: right;\">\n",
       "      <th></th>\n",
       "      <th>score</th>\n",
       "      <th>Num Leaves</th>\n",
       "      <th>Learning Rate</th>\n",
       "      <th>Subsample for Bin</th>\n",
       "      <th>Min Child Samples</th>\n",
       "      <th>Reg Alpha</th>\n",
       "      <th>Reg Lambda</th>\n",
       "      <th>Colsample by Tree</th>\n",
       "      <th>Subsample</th>\n",
       "      <th>Is Unbalanced</th>\n",
       "      <th>N Estimators</th>\n",
       "      <th>iteration</th>\n",
       "      <th>Boosting type_dart</th>\n",
       "      <th>Boosting type_gbdt</th>\n",
       "      <th>Boosting type_goss</th>\n",
       "    </tr>\n",
       "  </thead>\n",
       "  <tbody>\n",
       "    <tr>\n",
       "      <th>0</th>\n",
       "      <td>0.746900</td>\n",
       "      <td>62</td>\n",
       "      <td>0.015903</td>\n",
       "      <td>60000</td>\n",
       "      <td>175</td>\n",
       "      <td>0.673469</td>\n",
       "      <td>0.448980</td>\n",
       "      <td>0.600000</td>\n",
       "      <td>1.000000</td>\n",
       "      <td>False</td>\n",
       "      <td>73</td>\n",
       "      <td>35</td>\n",
       "      <td>0</td>\n",
       "      <td>1</td>\n",
       "      <td>0</td>\n",
       "    </tr>\n",
       "    <tr>\n",
       "      <th>1</th>\n",
       "      <td>0.746695</td>\n",
       "      <td>22</td>\n",
       "      <td>0.006872</td>\n",
       "      <td>160000</td>\n",
       "      <td>445</td>\n",
       "      <td>0.816327</td>\n",
       "      <td>0.734694</td>\n",
       "      <td>0.600000</td>\n",
       "      <td>0.696970</td>\n",
       "      <td>False</td>\n",
       "      <td>247</td>\n",
       "      <td>11</td>\n",
       "      <td>0</td>\n",
       "      <td>1</td>\n",
       "      <td>0</td>\n",
       "    </tr>\n",
       "    <tr>\n",
       "      <th>2</th>\n",
       "      <td>0.746637</td>\n",
       "      <td>95</td>\n",
       "      <td>0.005663</td>\n",
       "      <td>60000</td>\n",
       "      <td>335</td>\n",
       "      <td>0.510204</td>\n",
       "      <td>0.551020</td>\n",
       "      <td>0.822222</td>\n",
       "      <td>0.848485</td>\n",
       "      <td>True</td>\n",
       "      <td>1028</td>\n",
       "      <td>15</td>\n",
       "      <td>1</td>\n",
       "      <td>0</td>\n",
       "      <td>0</td>\n",
       "    </tr>\n",
       "    <tr>\n",
       "      <th>3</th>\n",
       "      <td>0.745646</td>\n",
       "      <td>51</td>\n",
       "      <td>0.007965</td>\n",
       "      <td>20000</td>\n",
       "      <td>360</td>\n",
       "      <td>0.448980</td>\n",
       "      <td>0.795918</td>\n",
       "      <td>0.911111</td>\n",
       "      <td>0.535354</td>\n",
       "      <td>False</td>\n",
       "      <td>950</td>\n",
       "      <td>39</td>\n",
       "      <td>1</td>\n",
       "      <td>0</td>\n",
       "      <td>0</td>\n",
       "    </tr>\n",
       "    <tr>\n",
       "      <th>4</th>\n",
       "      <td>0.745500</td>\n",
       "      <td>62</td>\n",
       "      <td>0.086339</td>\n",
       "      <td>200000</td>\n",
       "      <td>290</td>\n",
       "      <td>0.816327</td>\n",
       "      <td>0.102041</td>\n",
       "      <td>0.644444</td>\n",
       "      <td>0.944444</td>\n",
       "      <td>False</td>\n",
       "      <td>13</td>\n",
       "      <td>2</td>\n",
       "      <td>0</td>\n",
       "      <td>1</td>\n",
       "      <td>0</td>\n",
       "    </tr>\n",
       "  </tbody>\n",
       "</table>\n",
       "</div>"
      ],
      "text/plain": [
       "      score  Num Leaves  Learning Rate  Subsample for Bin  Min Child Samples  \\\n",
       "0  0.746900          62       0.015903              60000                175   \n",
       "1  0.746695          22       0.006872             160000                445   \n",
       "2  0.746637          95       0.005663              60000                335   \n",
       "3  0.745646          51       0.007965              20000                360   \n",
       "4  0.745500          62       0.086339             200000                290   \n",
       "\n",
       "   Reg Alpha  Reg Lambda  Colsample by Tree  Subsample  Is Unbalanced  \\\n",
       "0   0.673469    0.448980           0.600000   1.000000          False   \n",
       "1   0.816327    0.734694           0.600000   0.696970          False   \n",
       "2   0.510204    0.551020           0.822222   0.848485           True   \n",
       "3   0.448980    0.795918           0.911111   0.535354          False   \n",
       "4   0.816327    0.102041           0.644444   0.944444          False   \n",
       "\n",
       "   N Estimators  iteration  Boosting type_dart  Boosting type_gbdt  \\\n",
       "0            73         35                   0                   1   \n",
       "1           247         11                   0                   1   \n",
       "2          1028         15                   1                   0   \n",
       "3           950         39                   1                   0   \n",
       "4            13          2                   0                   1   \n",
       "\n",
       "   Boosting type_goss  \n",
       "0                   0  \n",
       "1                   0  \n",
       "2                   0  \n",
       "3                   0  \n",
       "4                   0  "
      ]
     },
     "execution_count": 245,
     "metadata": {},
     "output_type": "execute_result"
    }
   ],
   "source": [
    "# One hot encode categoricals\n",
    "param_data = pd.get_dummies(param_data)\n",
    "print('Parameter data shape: ', param_data.shape)\n",
    "param_data.head()"
   ]
  },
  {
   "cell_type": "code",
   "execution_count": 246,
   "metadata": {},
   "outputs": [
    {
     "name": "stdout",
     "output_type": "stream",
     "text": [
      "Learning Rate        -0.803336\n",
      "Colsample by Tree    -0.333452\n",
      "Boosting type_goss   -0.307282\n",
      "Subsample for Bin    -0.278376\n",
      "Is Unbalanced        -0.274046\n",
      "Num Leaves           -0.178586\n",
      "Reg Lambda           -0.170884\n",
      "Subsample            -0.170378\n",
      "Reg Alpha            -0.012562\n",
      "Boosting type_gbdt    0.117503\n",
      "Name: score, dtype: float64\n"
     ]
    }
   ],
   "source": [
    "# Print correlations\n",
    "correlations = param_data.corr()['score'].sort_values()\n",
    "print(correlations.head(10))\n"
   ]
  },
  {
   "cell_type": "markdown",
   "metadata": {},
   "source": [
    "Learning rate and Subsample look like a promising candidates. Let's look at them and other hyperparameters)\n"
   ]
  },
  {
   "cell_type": "code",
   "execution_count": 248,
   "metadata": {},
   "outputs": [
    {
     "data": {
      "text/plain": [
       "<seaborn.axisgrid.PairGrid at 0x1d6015dbfd0>"
      ]
     },
     "execution_count": 248,
     "metadata": {},
     "output_type": "execute_result"
    },
    {
     "data": {
      "image/png": "[encoded data removed]",
      "text/plain": [
       "<Figure size 1080x1080 with 42 Axes>"
      ]
     },
     "metadata": {},
     "output_type": "display_data"
    }
   ],
   "source": [
    "sample_data = param_data[['score', 'Subsample for Bin', 'Learning Rate','Min Child Samples', 'Colsample by Tree', 'Subsample']]\n",
    "sns.pairplot(sample_data)"
   ]
  },
  {
   "cell_type": "raw",
   "metadata": {},
   "source": [
    "Minor tweaks to the parameter grid from the GridSearch iteration to reflect the GridSearch results and hypotheses."
   ]
  },
  {
   "cell_type": "code",
   "execution_count": 249,
   "metadata": {},
   "outputs": [],
   "source": [
    "FocusedRandom_param_grid = {\n",
    "    'boosting_type': ['gbdt', 'dart'],\n",
    "    'num_leaves': list(range(50, 100,5)), #used smaller bucket since in none of the 100 iterations values were above 100\n",
    "    'learning_rate': list(np.logspace(np.log10(0.003), np.log10(0.05), base = 10, num = 100)),\n",
    "    'min_child_samples': list(range(400, 500, 5)), \n",
    "    'reg_alpha': list(np.linspace(0.1, 0.8,100)),\n",
    "    'reg_lambda': list(np.linspace(0.1, 1,100)),\n",
    "    'colsample_bytree': list(np.linspace(0.6, 0.9, 100)),\n",
    "    'subsample': list(np.linspace(0.3, 0.9, 100)),\n",
    "    'is_unbalance': [True, False]\n",
    "}"
   ]
  },
  {
   "cell_type": "code",
   "execution_count": 250,
   "metadata": {},
   "outputs": [],
   "source": [
    "# Create file and open connection\n",
    "out_file = 'focused_random_search_results_domain_features_' + str(MAX_EVALS) +'_iterations.csv'\n",
    "of_connection = open(out_file, 'w')\n",
    "writer = csv.writer(of_connection)\n",
    "\n",
    "# Write column names\n",
    "headers = ['score', 'hyperparameters', 'iteration','start_time', 'stop_time', 'elapsed_time']\n",
    "writer.writerow(headers)\n",
    "of_connection.close()"
   ]
  },
  {
   "cell_type": "code",
   "execution_count": 251,
   "metadata": {},
   "outputs": [],
   "source": [
    "#Expensive function call isolated into its own cell\n",
    "focused_random_results = random_search(FocusedRandom_param_grid)"
   ]
  },
  {
   "cell_type": "code",
   "execution_count": 252,
   "metadata": {},
   "outputs": [
    {
     "name": "stdout",
     "output_type": "stream",
     "text": [
      "The best validation score was 0.74827\n",
      "\n",
      "The best hyperparameters were:\n",
      "{'boosting_type': 'dart',\n",
      " 'colsample_bytree': 0.6575757575757576,\n",
      " 'is_unbalance': True,\n",
      " 'learning_rate': 0.009896493193757221,\n",
      " 'metric': 'auc',\n",
      " 'min_child_samples': 425,\n",
      " 'n_estimators': 481,\n",
      " 'num_leaves': 85,\n",
      " 'reg_alpha': 0.5242424242424243,\n",
      " 'reg_lambda': 0.709090909090909,\n",
      " 'subsample': 0.5060606060606061,\n",
      " 'verbose': 1}\n"
     ]
    }
   ],
   "source": [
    "import pprint\n",
    "\n",
    "print('The best validation score was {:.5f}'.format(focused_random_results.loc[0, 'score']))\n",
    "print('\\nThe best hyperparameters were:')\n",
    "\n",
    "pprint.pprint(focused_random_results.loc[0, 'params'])"
   ]
  },
  {
   "cell_type": "code",
   "execution_count": 255,
   "metadata": {},
   "outputs": [
    {
     "name": "stdout",
     "output_type": "stream",
     "text": [
      "The best model from focused random search scores 0.74364 ROC AUC on the test set.\n"
     ]
    }
   ],
   "source": [
    "# Get the best parameters\n",
    "focused_random_search_params = focused_random_results.loc[0, 'params']\n",
    "\n",
    "# Create, train, test model\n",
    "model = lgb.LGBMClassifier(**focused_random_search_params, random_state = 42)\n",
    "model.fit(train_features, train_labels)\n",
    "\n",
    "preds = model.predict_proba(test_features)[:, 1]\n",
    "print('The best model from focused random search scores {:.5f} ROC AUC on the test set.'.format(roc_auc_score(test_labels, preds)))"
   ]
  },
  {
   "cell_type": "code",
   "execution_count": 254,
   "metadata": {},
   "outputs": [],
   "source": [
    "#Focused random parameter test\n",
    "focused_random_param_search_test_ids = app_test_domain['SK_ID_CURR']\n",
    "focused_random_param_search_test = app_test_domain.drop(columns = ['SK_ID_CURR'])\n",
    "\n",
    "#Use existing model from above to create predictions for our test set\n",
    "preds = model.predict_proba(focused_random_param_search_test)[:, 1]\n",
    "\n",
    "# Generate submission file in approved format\n",
    "submission = pd.DataFrame({'SK_ID_CURR': focused_random_param_search_test_ids, 'TARGET': preds})\n",
    "submission.to_csv('submission_focused_random_param_search_plus_domain_and_poly_features_LGBM.csv', index = False)"
   ]
  },
  {
   "attachments": {},
   "cell_type": "markdown",
   "metadata": {},
   "source": [
    "Unfortunately, the higher Kfold ROC AUC score on the test set does not translate to a higher official Kaggle Score! We are starting to overfit, it appears! [focused_random_search_result_domain_poly_features.PNG](attachment:focused_random_search_result_domain_poly_features.PNG)"
   ]
  },
  {
   "cell_type": "code",
   "execution_count": null,
   "metadata": {},
   "outputs": [],
   "source": []
  }
 ],
 "metadata": {
  "kernelspec": {
   "display_name": "Python 3",
   "language": "python",
   "name": "python3"
  },
  "language_info": {
   "codemirror_mode": {
    "name": "ipython",
    "version": 3
   },
   "file_extension": ".py",
   "mimetype": "text/x-python",
   "name": "python",
   "nbconvert_exporter": "python",
   "pygments_lexer": "ipython3",
   "version": "3.6.5"
  }
 },
 "nbformat": 4,
 "nbformat_minor": 2
}
